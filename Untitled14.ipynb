{
  "nbformat": 4,
  "nbformat_minor": 0,
  "metadata": {
    "colab": {
      "name": "Untitled14.ipynb",
      "provenance": [],
      "collapsed_sections": [],
      "include_colab_link": true
    },
    "kernelspec": {
      "name": "python3",
      "display_name": "Python 3"
    }
  },
  "cells": [
    {
      "cell_type": "markdown",
      "metadata": {
        "id": "view-in-github",
        "colab_type": "text"
      },
      "source": [
        "<a href=\"https://colab.research.google.com/github/chitragdesai/Data-Science/blob/master/Untitled14.ipynb\" target=\"_parent\"><img src=\"https://colab.research.google.com/assets/colab-badge.svg\" alt=\"Open In Colab\"/></a>"
      ]
    },
    {
      "cell_type": "code",
      "metadata": {
        "id": "iy_VkqMuhDfW",
        "colab_type": "code",
        "colab": {}
      },
      "source": [
        "import numpy as np # linear algebra\n",
        "import pandas as pd # data processing, CSV file I/O (e.g. pd.read_csv)\n",
        "import matplotlib as mpl\n",
        "import matplotlib.pyplot as plt\n",
        "import seaborn as sns\n",
        "from sklearn import preprocessing\n",
        "%matplotlib inline"
      ],
      "execution_count": 0,
      "outputs": []
    },
    {
      "cell_type": "code",
      "metadata": {
        "id": "_gIEzo8mhuxj",
        "colab_type": "code",
        "outputId": "85377d42-e4b2-4652-c2da-85d2c18aa9fe",
        "colab": {
          "base_uri": "https://localhost:8080/",
          "height": 204
        }
      },
      "source": [
        "glass = pd.read_csv(\"https://raw.githubusercontent.com/insaid2018/Term-3/master/Data/CaseStudy/glass.csv\")\n",
        "glass.head()"
      ],
      "execution_count": 114,
      "outputs": [
        {
          "output_type": "execute_result",
          "data": {
            "text/html": [
              "<div>\n",
              "<style scoped>\n",
              "    .dataframe tbody tr th:only-of-type {\n",
              "        vertical-align: middle;\n",
              "    }\n",
              "\n",
              "    .dataframe tbody tr th {\n",
              "        vertical-align: top;\n",
              "    }\n",
              "\n",
              "    .dataframe thead th {\n",
              "        text-align: right;\n",
              "    }\n",
              "</style>\n",
              "<table border=\"1\" class=\"dataframe\">\n",
              "  <thead>\n",
              "    <tr style=\"text-align: right;\">\n",
              "      <th></th>\n",
              "      <th>RI</th>\n",
              "      <th>Na</th>\n",
              "      <th>Mg</th>\n",
              "      <th>Al</th>\n",
              "      <th>Si</th>\n",
              "      <th>K</th>\n",
              "      <th>Ca</th>\n",
              "      <th>Ba</th>\n",
              "      <th>Fe</th>\n",
              "      <th>Type</th>\n",
              "    </tr>\n",
              "  </thead>\n",
              "  <tbody>\n",
              "    <tr>\n",
              "      <th>0</th>\n",
              "      <td>1.52101</td>\n",
              "      <td>13.64</td>\n",
              "      <td>4.49</td>\n",
              "      <td>1.10</td>\n",
              "      <td>71.78</td>\n",
              "      <td>0.06</td>\n",
              "      <td>8.75</td>\n",
              "      <td>0.0</td>\n",
              "      <td>0.0</td>\n",
              "      <td>1</td>\n",
              "    </tr>\n",
              "    <tr>\n",
              "      <th>1</th>\n",
              "      <td>1.51761</td>\n",
              "      <td>13.89</td>\n",
              "      <td>3.60</td>\n",
              "      <td>1.36</td>\n",
              "      <td>72.73</td>\n",
              "      <td>0.48</td>\n",
              "      <td>7.83</td>\n",
              "      <td>0.0</td>\n",
              "      <td>0.0</td>\n",
              "      <td>1</td>\n",
              "    </tr>\n",
              "    <tr>\n",
              "      <th>2</th>\n",
              "      <td>1.51618</td>\n",
              "      <td>13.53</td>\n",
              "      <td>3.55</td>\n",
              "      <td>1.54</td>\n",
              "      <td>72.99</td>\n",
              "      <td>0.39</td>\n",
              "      <td>7.78</td>\n",
              "      <td>0.0</td>\n",
              "      <td>0.0</td>\n",
              "      <td>1</td>\n",
              "    </tr>\n",
              "    <tr>\n",
              "      <th>3</th>\n",
              "      <td>1.51766</td>\n",
              "      <td>13.21</td>\n",
              "      <td>3.69</td>\n",
              "      <td>1.29</td>\n",
              "      <td>72.61</td>\n",
              "      <td>0.57</td>\n",
              "      <td>8.22</td>\n",
              "      <td>0.0</td>\n",
              "      <td>0.0</td>\n",
              "      <td>1</td>\n",
              "    </tr>\n",
              "    <tr>\n",
              "      <th>4</th>\n",
              "      <td>1.51742</td>\n",
              "      <td>13.27</td>\n",
              "      <td>3.62</td>\n",
              "      <td>1.24</td>\n",
              "      <td>73.08</td>\n",
              "      <td>0.55</td>\n",
              "      <td>8.07</td>\n",
              "      <td>0.0</td>\n",
              "      <td>0.0</td>\n",
              "      <td>1</td>\n",
              "    </tr>\n",
              "  </tbody>\n",
              "</table>\n",
              "</div>"
            ],
            "text/plain": [
              "        RI     Na    Mg    Al     Si     K    Ca   Ba   Fe  Type\n",
              "0  1.52101  13.64  4.49  1.10  71.78  0.06  8.75  0.0  0.0     1\n",
              "1  1.51761  13.89  3.60  1.36  72.73  0.48  7.83  0.0  0.0     1\n",
              "2  1.51618  13.53  3.55  1.54  72.99  0.39  7.78  0.0  0.0     1\n",
              "3  1.51766  13.21  3.69  1.29  72.61  0.57  8.22  0.0  0.0     1\n",
              "4  1.51742  13.27  3.62  1.24  73.08  0.55  8.07  0.0  0.0     1"
            ]
          },
          "metadata": {
            "tags": []
          },
          "execution_count": 114
        }
      ]
    },
    {
      "cell_type": "code",
      "metadata": {
        "id": "tsvyG9memCYJ",
        "colab_type": "code",
        "outputId": "f573ca05-7a68-44dc-b3a5-cf4171c04579",
        "colab": {
          "base_uri": "https://localhost:8080/",
          "height": 34
        }
      },
      "source": [
        "glass.shape"
      ],
      "execution_count": 115,
      "outputs": [
        {
          "output_type": "execute_result",
          "data": {
            "text/plain": [
              "(214, 10)"
            ]
          },
          "metadata": {
            "tags": []
          },
          "execution_count": 115
        }
      ]
    },
    {
      "cell_type": "code",
      "metadata": {
        "id": "Nq91ojvMmRum",
        "colab_type": "code",
        "outputId": "cd2eaaa8-90ba-42eb-a648-a0d39a544527",
        "colab": {
          "base_uri": "https://localhost:8080/",
          "height": 272
        }
      },
      "source": [
        "glass.info()"
      ],
      "execution_count": 116,
      "outputs": [
        {
          "output_type": "stream",
          "text": [
            "<class 'pandas.core.frame.DataFrame'>\n",
            "RangeIndex: 214 entries, 0 to 213\n",
            "Data columns (total 10 columns):\n",
            "RI      214 non-null float64\n",
            "Na      214 non-null float64\n",
            "Mg      214 non-null float64\n",
            "Al      214 non-null float64\n",
            "Si      214 non-null float64\n",
            "K       214 non-null float64\n",
            "Ca      214 non-null float64\n",
            "Ba      214 non-null float64\n",
            "Fe      214 non-null float64\n",
            "Type    214 non-null int64\n",
            "dtypes: float64(9), int64(1)\n",
            "memory usage: 16.8 KB\n"
          ],
          "name": "stdout"
        }
      ]
    },
    {
      "cell_type": "code",
      "metadata": {
        "id": "zY_tLgAomUB3",
        "colab_type": "code",
        "outputId": "1bb9ed74-43b4-4285-f30e-98be0f3aa078",
        "colab": {
          "base_uri": "https://localhost:8080/",
          "height": 297
        }
      },
      "source": [
        "glass.describe()"
      ],
      "execution_count": 117,
      "outputs": [
        {
          "output_type": "execute_result",
          "data": {
            "text/html": [
              "<div>\n",
              "<style scoped>\n",
              "    .dataframe tbody tr th:only-of-type {\n",
              "        vertical-align: middle;\n",
              "    }\n",
              "\n",
              "    .dataframe tbody tr th {\n",
              "        vertical-align: top;\n",
              "    }\n",
              "\n",
              "    .dataframe thead th {\n",
              "        text-align: right;\n",
              "    }\n",
              "</style>\n",
              "<table border=\"1\" class=\"dataframe\">\n",
              "  <thead>\n",
              "    <tr style=\"text-align: right;\">\n",
              "      <th></th>\n",
              "      <th>RI</th>\n",
              "      <th>Na</th>\n",
              "      <th>Mg</th>\n",
              "      <th>Al</th>\n",
              "      <th>Si</th>\n",
              "      <th>K</th>\n",
              "      <th>Ca</th>\n",
              "      <th>Ba</th>\n",
              "      <th>Fe</th>\n",
              "      <th>Type</th>\n",
              "    </tr>\n",
              "  </thead>\n",
              "  <tbody>\n",
              "    <tr>\n",
              "      <th>count</th>\n",
              "      <td>214.000000</td>\n",
              "      <td>214.000000</td>\n",
              "      <td>214.000000</td>\n",
              "      <td>214.000000</td>\n",
              "      <td>214.000000</td>\n",
              "      <td>214.000000</td>\n",
              "      <td>214.000000</td>\n",
              "      <td>214.000000</td>\n",
              "      <td>214.000000</td>\n",
              "      <td>214.000000</td>\n",
              "    </tr>\n",
              "    <tr>\n",
              "      <th>mean</th>\n",
              "      <td>1.518365</td>\n",
              "      <td>13.407850</td>\n",
              "      <td>2.684533</td>\n",
              "      <td>1.444907</td>\n",
              "      <td>72.650935</td>\n",
              "      <td>0.497056</td>\n",
              "      <td>8.956963</td>\n",
              "      <td>0.175047</td>\n",
              "      <td>0.057009</td>\n",
              "      <td>2.780374</td>\n",
              "    </tr>\n",
              "    <tr>\n",
              "      <th>std</th>\n",
              "      <td>0.003037</td>\n",
              "      <td>0.816604</td>\n",
              "      <td>1.442408</td>\n",
              "      <td>0.499270</td>\n",
              "      <td>0.774546</td>\n",
              "      <td>0.652192</td>\n",
              "      <td>1.423153</td>\n",
              "      <td>0.497219</td>\n",
              "      <td>0.097439</td>\n",
              "      <td>2.103739</td>\n",
              "    </tr>\n",
              "    <tr>\n",
              "      <th>min</th>\n",
              "      <td>1.511150</td>\n",
              "      <td>10.730000</td>\n",
              "      <td>0.000000</td>\n",
              "      <td>0.290000</td>\n",
              "      <td>69.810000</td>\n",
              "      <td>0.000000</td>\n",
              "      <td>5.430000</td>\n",
              "      <td>0.000000</td>\n",
              "      <td>0.000000</td>\n",
              "      <td>1.000000</td>\n",
              "    </tr>\n",
              "    <tr>\n",
              "      <th>25%</th>\n",
              "      <td>1.516523</td>\n",
              "      <td>12.907500</td>\n",
              "      <td>2.115000</td>\n",
              "      <td>1.190000</td>\n",
              "      <td>72.280000</td>\n",
              "      <td>0.122500</td>\n",
              "      <td>8.240000</td>\n",
              "      <td>0.000000</td>\n",
              "      <td>0.000000</td>\n",
              "      <td>1.000000</td>\n",
              "    </tr>\n",
              "    <tr>\n",
              "      <th>50%</th>\n",
              "      <td>1.517680</td>\n",
              "      <td>13.300000</td>\n",
              "      <td>3.480000</td>\n",
              "      <td>1.360000</td>\n",
              "      <td>72.790000</td>\n",
              "      <td>0.555000</td>\n",
              "      <td>8.600000</td>\n",
              "      <td>0.000000</td>\n",
              "      <td>0.000000</td>\n",
              "      <td>2.000000</td>\n",
              "    </tr>\n",
              "    <tr>\n",
              "      <th>75%</th>\n",
              "      <td>1.519157</td>\n",
              "      <td>13.825000</td>\n",
              "      <td>3.600000</td>\n",
              "      <td>1.630000</td>\n",
              "      <td>73.087500</td>\n",
              "      <td>0.610000</td>\n",
              "      <td>9.172500</td>\n",
              "      <td>0.000000</td>\n",
              "      <td>0.100000</td>\n",
              "      <td>3.000000</td>\n",
              "    </tr>\n",
              "    <tr>\n",
              "      <th>max</th>\n",
              "      <td>1.533930</td>\n",
              "      <td>17.380000</td>\n",
              "      <td>4.490000</td>\n",
              "      <td>3.500000</td>\n",
              "      <td>75.410000</td>\n",
              "      <td>6.210000</td>\n",
              "      <td>16.190000</td>\n",
              "      <td>3.150000</td>\n",
              "      <td>0.510000</td>\n",
              "      <td>7.000000</td>\n",
              "    </tr>\n",
              "  </tbody>\n",
              "</table>\n",
              "</div>"
            ],
            "text/plain": [
              "               RI          Na          Mg  ...          Ba          Fe        Type\n",
              "count  214.000000  214.000000  214.000000  ...  214.000000  214.000000  214.000000\n",
              "mean     1.518365   13.407850    2.684533  ...    0.175047    0.057009    2.780374\n",
              "std      0.003037    0.816604    1.442408  ...    0.497219    0.097439    2.103739\n",
              "min      1.511150   10.730000    0.000000  ...    0.000000    0.000000    1.000000\n",
              "25%      1.516523   12.907500    2.115000  ...    0.000000    0.000000    1.000000\n",
              "50%      1.517680   13.300000    3.480000  ...    0.000000    0.000000    2.000000\n",
              "75%      1.519157   13.825000    3.600000  ...    0.000000    0.100000    3.000000\n",
              "max      1.533930   17.380000    4.490000  ...    3.150000    0.510000    7.000000\n",
              "\n",
              "[8 rows x 10 columns]"
            ]
          },
          "metadata": {
            "tags": []
          },
          "execution_count": 117
        }
      ]
    },
    {
      "cell_type": "code",
      "metadata": {
        "id": "TNUOSo22mW1_",
        "colab_type": "code",
        "outputId": "2c0c31c5-9166-4f81-d763-4804170e7017",
        "colab": {
          "base_uri": "https://localhost:8080/",
          "height": 34
        }
      },
      "source": [
        "glass.columns"
      ],
      "execution_count": 118,
      "outputs": [
        {
          "output_type": "execute_result",
          "data": {
            "text/plain": [
              "Index(['RI', 'Na', 'Mg', 'Al', 'Si', 'K', 'Ca', 'Ba', 'Fe', 'Type'], dtype='object')"
            ]
          },
          "metadata": {
            "tags": []
          },
          "execution_count": 118
        }
      ]
    },
    {
      "cell_type": "code",
      "metadata": {
        "id": "5AD4odYYveBJ",
        "colab_type": "code",
        "outputId": "de97776f-7c42-473b-c659-94d911d39235",
        "colab": {
          "base_uri": "https://localhost:8080/",
          "height": 680
        }
      },
      "source": [
        "glass[glass['Ba']>0]['Type']\n",
        "      "
      ],
      "execution_count": 119,
      "outputs": [
        {
          "output_type": "execute_result",
          "data": {
            "text/plain": [
              "32     1\n",
              "36     1\n",
              "61     1\n",
              "99     2\n",
              "100    2\n",
              "106    2\n",
              "128    2\n",
              "141    2\n",
              "142    2\n",
              "161    3\n",
              "163    5\n",
              "174    5\n",
              "185    7\n",
              "186    7\n",
              "189    7\n",
              "190    7\n",
              "191    7\n",
              "192    7\n",
              "193    7\n",
              "194    7\n",
              "195    7\n",
              "196    7\n",
              "197    7\n",
              "198    7\n",
              "199    7\n",
              "200    7\n",
              "202    7\n",
              "203    7\n",
              "204    7\n",
              "205    7\n",
              "206    7\n",
              "207    7\n",
              "208    7\n",
              "209    7\n",
              "210    7\n",
              "211    7\n",
              "212    7\n",
              "213    7\n",
              "Name: Type, dtype: int64"
            ]
          },
          "metadata": {
            "tags": []
          },
          "execution_count": 119
        }
      ]
    },
    {
      "cell_type": "code",
      "metadata": {
        "id": "aw5nb6q2wRHr",
        "colab_type": "code",
        "outputId": "06cd5bf0-cbff-4fd8-858a-8e494ba403c6",
        "colab": {
          "base_uri": "https://localhost:8080/",
          "height": 34
        }
      },
      "source": [
        "glass[glass['Ba']>0]['Type'].unique()"
      ],
      "execution_count": 120,
      "outputs": [
        {
          "output_type": "execute_result",
          "data": {
            "text/plain": [
              "array([1, 2, 3, 5, 7])"
            ]
          },
          "metadata": {
            "tags": []
          },
          "execution_count": 120
        }
      ]
    },
    {
      "cell_type": "code",
      "metadata": {
        "id": "tDhyS0kTygHE",
        "colab_type": "code",
        "outputId": "e0922283-c828-4d42-a17c-5301a53eea2e",
        "colab": {
          "base_uri": "https://localhost:8080/",
          "height": 34
        }
      },
      "source": [
        "glass[glass['Ba']==0]['Type'].unique()"
      ],
      "execution_count": 121,
      "outputs": [
        {
          "output_type": "execute_result",
          "data": {
            "text/plain": [
              "array([1, 2, 3, 5, 6, 7])"
            ]
          },
          "metadata": {
            "tags": []
          },
          "execution_count": 121
        }
      ]
    },
    {
      "cell_type": "code",
      "metadata": {
        "id": "pSqiMc0agc6L",
        "colab_type": "code",
        "colab": {
          "base_uri": "https://localhost:8080/",
          "height": 34
        },
        "outputId": "a470d831-495c-4182-d291-9a39eb31e4dd"
      },
      "source": [
        "glass[glass['K']==0]['Type'].unique()"
      ],
      "execution_count": 122,
      "outputs": [
        {
          "output_type": "execute_result",
          "data": {
            "text/plain": [
              "array([1, 2, 3, 6, 7])"
            ]
          },
          "metadata": {
            "tags": []
          },
          "execution_count": 122
        }
      ]
    },
    {
      "cell_type": "code",
      "metadata": {
        "id": "nUWSyPxUgjYM",
        "colab_type": "code",
        "colab": {
          "base_uri": "https://localhost:8080/",
          "height": 34
        },
        "outputId": "be02d34e-daf3-461f-8f8b-404f5147b691"
      },
      "source": [
        "glass[glass['Fe']==0]['Type'].unique()"
      ],
      "execution_count": 123,
      "outputs": [
        {
          "output_type": "execute_result",
          "data": {
            "text/plain": [
              "array([1, 2, 3, 5, 6, 7])"
            ]
          },
          "metadata": {
            "tags": []
          },
          "execution_count": 123
        }
      ]
    },
    {
      "cell_type": "code",
      "metadata": {
        "id": "Y-LMHlwlhE10",
        "colab_type": "code",
        "colab": {
          "base_uri": "https://localhost:8080/",
          "height": 34
        },
        "outputId": "5110a29a-5061-46a2-a683-79d88ddcb546"
      },
      "source": [
        "glass[glass['Mg']==0]['Type'].unique()"
      ],
      "execution_count": 82,
      "outputs": [
        {
          "output_type": "execute_result",
          "data": {
            "text/plain": [
              "array([2, 5, 6, 7])"
            ]
          },
          "metadata": {
            "tags": []
          },
          "execution_count": 82
        }
      ]
    },
    {
      "cell_type": "code",
      "metadata": {
        "id": "Z_wMNj2shf_1",
        "colab_type": "code",
        "colab": {
          "base_uri": "https://localhost:8080/",
          "height": 948
        },
        "outputId": "8c6ad7d6-5863-401c-dd26-a758c8249226"
      },
      "source": [
        "glass[glass['Type']==7]"
      ],
      "execution_count": 124,
      "outputs": [
        {
          "output_type": "execute_result",
          "data": {
            "text/html": [
              "<div>\n",
              "<style scoped>\n",
              "    .dataframe tbody tr th:only-of-type {\n",
              "        vertical-align: middle;\n",
              "    }\n",
              "\n",
              "    .dataframe tbody tr th {\n",
              "        vertical-align: top;\n",
              "    }\n",
              "\n",
              "    .dataframe thead th {\n",
              "        text-align: right;\n",
              "    }\n",
              "</style>\n",
              "<table border=\"1\" class=\"dataframe\">\n",
              "  <thead>\n",
              "    <tr style=\"text-align: right;\">\n",
              "      <th></th>\n",
              "      <th>RI</th>\n",
              "      <th>Na</th>\n",
              "      <th>Mg</th>\n",
              "      <th>Al</th>\n",
              "      <th>Si</th>\n",
              "      <th>K</th>\n",
              "      <th>Ca</th>\n",
              "      <th>Ba</th>\n",
              "      <th>Fe</th>\n",
              "      <th>Type</th>\n",
              "    </tr>\n",
              "  </thead>\n",
              "  <tbody>\n",
              "    <tr>\n",
              "      <th>185</th>\n",
              "      <td>1.51131</td>\n",
              "      <td>13.69</td>\n",
              "      <td>3.20</td>\n",
              "      <td>1.81</td>\n",
              "      <td>72.81</td>\n",
              "      <td>1.76</td>\n",
              "      <td>5.43</td>\n",
              "      <td>1.19</td>\n",
              "      <td>0.00</td>\n",
              "      <td>7</td>\n",
              "    </tr>\n",
              "    <tr>\n",
              "      <th>186</th>\n",
              "      <td>1.51838</td>\n",
              "      <td>14.32</td>\n",
              "      <td>3.26</td>\n",
              "      <td>2.22</td>\n",
              "      <td>71.25</td>\n",
              "      <td>1.46</td>\n",
              "      <td>5.79</td>\n",
              "      <td>1.63</td>\n",
              "      <td>0.00</td>\n",
              "      <td>7</td>\n",
              "    </tr>\n",
              "    <tr>\n",
              "      <th>187</th>\n",
              "      <td>1.52315</td>\n",
              "      <td>13.44</td>\n",
              "      <td>3.34</td>\n",
              "      <td>1.23</td>\n",
              "      <td>72.38</td>\n",
              "      <td>0.60</td>\n",
              "      <td>8.83</td>\n",
              "      <td>0.00</td>\n",
              "      <td>0.00</td>\n",
              "      <td>7</td>\n",
              "    </tr>\n",
              "    <tr>\n",
              "      <th>188</th>\n",
              "      <td>1.52247</td>\n",
              "      <td>14.86</td>\n",
              "      <td>2.20</td>\n",
              "      <td>2.06</td>\n",
              "      <td>70.26</td>\n",
              "      <td>0.76</td>\n",
              "      <td>9.76</td>\n",
              "      <td>0.00</td>\n",
              "      <td>0.00</td>\n",
              "      <td>7</td>\n",
              "    </tr>\n",
              "    <tr>\n",
              "      <th>189</th>\n",
              "      <td>1.52365</td>\n",
              "      <td>15.79</td>\n",
              "      <td>1.83</td>\n",
              "      <td>1.31</td>\n",
              "      <td>70.43</td>\n",
              "      <td>0.31</td>\n",
              "      <td>8.61</td>\n",
              "      <td>1.68</td>\n",
              "      <td>0.00</td>\n",
              "      <td>7</td>\n",
              "    </tr>\n",
              "    <tr>\n",
              "      <th>190</th>\n",
              "      <td>1.51613</td>\n",
              "      <td>13.88</td>\n",
              "      <td>1.78</td>\n",
              "      <td>1.79</td>\n",
              "      <td>73.10</td>\n",
              "      <td>0.00</td>\n",
              "      <td>8.67</td>\n",
              "      <td>0.76</td>\n",
              "      <td>0.00</td>\n",
              "      <td>7</td>\n",
              "    </tr>\n",
              "    <tr>\n",
              "      <th>191</th>\n",
              "      <td>1.51602</td>\n",
              "      <td>14.85</td>\n",
              "      <td>0.00</td>\n",
              "      <td>2.38</td>\n",
              "      <td>73.28</td>\n",
              "      <td>0.00</td>\n",
              "      <td>8.76</td>\n",
              "      <td>0.64</td>\n",
              "      <td>0.09</td>\n",
              "      <td>7</td>\n",
              "    </tr>\n",
              "    <tr>\n",
              "      <th>192</th>\n",
              "      <td>1.51623</td>\n",
              "      <td>14.20</td>\n",
              "      <td>0.00</td>\n",
              "      <td>2.79</td>\n",
              "      <td>73.46</td>\n",
              "      <td>0.04</td>\n",
              "      <td>9.04</td>\n",
              "      <td>0.40</td>\n",
              "      <td>0.09</td>\n",
              "      <td>7</td>\n",
              "    </tr>\n",
              "    <tr>\n",
              "      <th>193</th>\n",
              "      <td>1.51719</td>\n",
              "      <td>14.75</td>\n",
              "      <td>0.00</td>\n",
              "      <td>2.00</td>\n",
              "      <td>73.02</td>\n",
              "      <td>0.00</td>\n",
              "      <td>8.53</td>\n",
              "      <td>1.59</td>\n",
              "      <td>0.08</td>\n",
              "      <td>7</td>\n",
              "    </tr>\n",
              "    <tr>\n",
              "      <th>194</th>\n",
              "      <td>1.51683</td>\n",
              "      <td>14.56</td>\n",
              "      <td>0.00</td>\n",
              "      <td>1.98</td>\n",
              "      <td>73.29</td>\n",
              "      <td>0.00</td>\n",
              "      <td>8.52</td>\n",
              "      <td>1.57</td>\n",
              "      <td>0.07</td>\n",
              "      <td>7</td>\n",
              "    </tr>\n",
              "    <tr>\n",
              "      <th>195</th>\n",
              "      <td>1.51545</td>\n",
              "      <td>14.14</td>\n",
              "      <td>0.00</td>\n",
              "      <td>2.68</td>\n",
              "      <td>73.39</td>\n",
              "      <td>0.08</td>\n",
              "      <td>9.07</td>\n",
              "      <td>0.61</td>\n",
              "      <td>0.05</td>\n",
              "      <td>7</td>\n",
              "    </tr>\n",
              "    <tr>\n",
              "      <th>196</th>\n",
              "      <td>1.51556</td>\n",
              "      <td>13.87</td>\n",
              "      <td>0.00</td>\n",
              "      <td>2.54</td>\n",
              "      <td>73.23</td>\n",
              "      <td>0.14</td>\n",
              "      <td>9.41</td>\n",
              "      <td>0.81</td>\n",
              "      <td>0.01</td>\n",
              "      <td>7</td>\n",
              "    </tr>\n",
              "    <tr>\n",
              "      <th>197</th>\n",
              "      <td>1.51727</td>\n",
              "      <td>14.70</td>\n",
              "      <td>0.00</td>\n",
              "      <td>2.34</td>\n",
              "      <td>73.28</td>\n",
              "      <td>0.00</td>\n",
              "      <td>8.95</td>\n",
              "      <td>0.66</td>\n",
              "      <td>0.00</td>\n",
              "      <td>7</td>\n",
              "    </tr>\n",
              "    <tr>\n",
              "      <th>198</th>\n",
              "      <td>1.51531</td>\n",
              "      <td>14.38</td>\n",
              "      <td>0.00</td>\n",
              "      <td>2.66</td>\n",
              "      <td>73.10</td>\n",
              "      <td>0.04</td>\n",
              "      <td>9.08</td>\n",
              "      <td>0.64</td>\n",
              "      <td>0.00</td>\n",
              "      <td>7</td>\n",
              "    </tr>\n",
              "    <tr>\n",
              "      <th>199</th>\n",
              "      <td>1.51609</td>\n",
              "      <td>15.01</td>\n",
              "      <td>0.00</td>\n",
              "      <td>2.51</td>\n",
              "      <td>73.05</td>\n",
              "      <td>0.05</td>\n",
              "      <td>8.83</td>\n",
              "      <td>0.53</td>\n",
              "      <td>0.00</td>\n",
              "      <td>7</td>\n",
              "    </tr>\n",
              "    <tr>\n",
              "      <th>200</th>\n",
              "      <td>1.51508</td>\n",
              "      <td>15.15</td>\n",
              "      <td>0.00</td>\n",
              "      <td>2.25</td>\n",
              "      <td>73.50</td>\n",
              "      <td>0.00</td>\n",
              "      <td>8.34</td>\n",
              "      <td>0.63</td>\n",
              "      <td>0.00</td>\n",
              "      <td>7</td>\n",
              "    </tr>\n",
              "    <tr>\n",
              "      <th>201</th>\n",
              "      <td>1.51653</td>\n",
              "      <td>11.95</td>\n",
              "      <td>0.00</td>\n",
              "      <td>1.19</td>\n",
              "      <td>75.18</td>\n",
              "      <td>2.70</td>\n",
              "      <td>8.93</td>\n",
              "      <td>0.00</td>\n",
              "      <td>0.00</td>\n",
              "      <td>7</td>\n",
              "    </tr>\n",
              "    <tr>\n",
              "      <th>202</th>\n",
              "      <td>1.51514</td>\n",
              "      <td>14.85</td>\n",
              "      <td>0.00</td>\n",
              "      <td>2.42</td>\n",
              "      <td>73.72</td>\n",
              "      <td>0.00</td>\n",
              "      <td>8.39</td>\n",
              "      <td>0.56</td>\n",
              "      <td>0.00</td>\n",
              "      <td>7</td>\n",
              "    </tr>\n",
              "    <tr>\n",
              "      <th>203</th>\n",
              "      <td>1.51658</td>\n",
              "      <td>14.80</td>\n",
              "      <td>0.00</td>\n",
              "      <td>1.99</td>\n",
              "      <td>73.11</td>\n",
              "      <td>0.00</td>\n",
              "      <td>8.28</td>\n",
              "      <td>1.71</td>\n",
              "      <td>0.00</td>\n",
              "      <td>7</td>\n",
              "    </tr>\n",
              "    <tr>\n",
              "      <th>204</th>\n",
              "      <td>1.51617</td>\n",
              "      <td>14.95</td>\n",
              "      <td>0.00</td>\n",
              "      <td>2.27</td>\n",
              "      <td>73.30</td>\n",
              "      <td>0.00</td>\n",
              "      <td>8.71</td>\n",
              "      <td>0.67</td>\n",
              "      <td>0.00</td>\n",
              "      <td>7</td>\n",
              "    </tr>\n",
              "    <tr>\n",
              "      <th>205</th>\n",
              "      <td>1.51732</td>\n",
              "      <td>14.95</td>\n",
              "      <td>0.00</td>\n",
              "      <td>1.80</td>\n",
              "      <td>72.99</td>\n",
              "      <td>0.00</td>\n",
              "      <td>8.61</td>\n",
              "      <td>1.55</td>\n",
              "      <td>0.00</td>\n",
              "      <td>7</td>\n",
              "    </tr>\n",
              "    <tr>\n",
              "      <th>206</th>\n",
              "      <td>1.51645</td>\n",
              "      <td>14.94</td>\n",
              "      <td>0.00</td>\n",
              "      <td>1.87</td>\n",
              "      <td>73.11</td>\n",
              "      <td>0.00</td>\n",
              "      <td>8.67</td>\n",
              "      <td>1.38</td>\n",
              "      <td>0.00</td>\n",
              "      <td>7</td>\n",
              "    </tr>\n",
              "    <tr>\n",
              "      <th>207</th>\n",
              "      <td>1.51831</td>\n",
              "      <td>14.39</td>\n",
              "      <td>0.00</td>\n",
              "      <td>1.82</td>\n",
              "      <td>72.86</td>\n",
              "      <td>1.41</td>\n",
              "      <td>6.47</td>\n",
              "      <td>2.88</td>\n",
              "      <td>0.00</td>\n",
              "      <td>7</td>\n",
              "    </tr>\n",
              "    <tr>\n",
              "      <th>208</th>\n",
              "      <td>1.51640</td>\n",
              "      <td>14.37</td>\n",
              "      <td>0.00</td>\n",
              "      <td>2.74</td>\n",
              "      <td>72.85</td>\n",
              "      <td>0.00</td>\n",
              "      <td>9.45</td>\n",
              "      <td>0.54</td>\n",
              "      <td>0.00</td>\n",
              "      <td>7</td>\n",
              "    </tr>\n",
              "    <tr>\n",
              "      <th>209</th>\n",
              "      <td>1.51623</td>\n",
              "      <td>14.14</td>\n",
              "      <td>0.00</td>\n",
              "      <td>2.88</td>\n",
              "      <td>72.61</td>\n",
              "      <td>0.08</td>\n",
              "      <td>9.18</td>\n",
              "      <td>1.06</td>\n",
              "      <td>0.00</td>\n",
              "      <td>7</td>\n",
              "    </tr>\n",
              "    <tr>\n",
              "      <th>210</th>\n",
              "      <td>1.51685</td>\n",
              "      <td>14.92</td>\n",
              "      <td>0.00</td>\n",
              "      <td>1.99</td>\n",
              "      <td>73.06</td>\n",
              "      <td>0.00</td>\n",
              "      <td>8.40</td>\n",
              "      <td>1.59</td>\n",
              "      <td>0.00</td>\n",
              "      <td>7</td>\n",
              "    </tr>\n",
              "    <tr>\n",
              "      <th>211</th>\n",
              "      <td>1.52065</td>\n",
              "      <td>14.36</td>\n",
              "      <td>0.00</td>\n",
              "      <td>2.02</td>\n",
              "      <td>73.42</td>\n",
              "      <td>0.00</td>\n",
              "      <td>8.44</td>\n",
              "      <td>1.64</td>\n",
              "      <td>0.00</td>\n",
              "      <td>7</td>\n",
              "    </tr>\n",
              "    <tr>\n",
              "      <th>212</th>\n",
              "      <td>1.51651</td>\n",
              "      <td>14.38</td>\n",
              "      <td>0.00</td>\n",
              "      <td>1.94</td>\n",
              "      <td>73.61</td>\n",
              "      <td>0.00</td>\n",
              "      <td>8.48</td>\n",
              "      <td>1.57</td>\n",
              "      <td>0.00</td>\n",
              "      <td>7</td>\n",
              "    </tr>\n",
              "    <tr>\n",
              "      <th>213</th>\n",
              "      <td>1.51711</td>\n",
              "      <td>14.23</td>\n",
              "      <td>0.00</td>\n",
              "      <td>2.08</td>\n",
              "      <td>73.36</td>\n",
              "      <td>0.00</td>\n",
              "      <td>8.62</td>\n",
              "      <td>1.67</td>\n",
              "      <td>0.00</td>\n",
              "      <td>7</td>\n",
              "    </tr>\n",
              "  </tbody>\n",
              "</table>\n",
              "</div>"
            ],
            "text/plain": [
              "          RI     Na    Mg    Al     Si     K    Ca    Ba    Fe  Type\n",
              "185  1.51131  13.69  3.20  1.81  72.81  1.76  5.43  1.19  0.00     7\n",
              "186  1.51838  14.32  3.26  2.22  71.25  1.46  5.79  1.63  0.00     7\n",
              "187  1.52315  13.44  3.34  1.23  72.38  0.60  8.83  0.00  0.00     7\n",
              "188  1.52247  14.86  2.20  2.06  70.26  0.76  9.76  0.00  0.00     7\n",
              "189  1.52365  15.79  1.83  1.31  70.43  0.31  8.61  1.68  0.00     7\n",
              "190  1.51613  13.88  1.78  1.79  73.10  0.00  8.67  0.76  0.00     7\n",
              "191  1.51602  14.85  0.00  2.38  73.28  0.00  8.76  0.64  0.09     7\n",
              "192  1.51623  14.20  0.00  2.79  73.46  0.04  9.04  0.40  0.09     7\n",
              "193  1.51719  14.75  0.00  2.00  73.02  0.00  8.53  1.59  0.08     7\n",
              "194  1.51683  14.56  0.00  1.98  73.29  0.00  8.52  1.57  0.07     7\n",
              "195  1.51545  14.14  0.00  2.68  73.39  0.08  9.07  0.61  0.05     7\n",
              "196  1.51556  13.87  0.00  2.54  73.23  0.14  9.41  0.81  0.01     7\n",
              "197  1.51727  14.70  0.00  2.34  73.28  0.00  8.95  0.66  0.00     7\n",
              "198  1.51531  14.38  0.00  2.66  73.10  0.04  9.08  0.64  0.00     7\n",
              "199  1.51609  15.01  0.00  2.51  73.05  0.05  8.83  0.53  0.00     7\n",
              "200  1.51508  15.15  0.00  2.25  73.50  0.00  8.34  0.63  0.00     7\n",
              "201  1.51653  11.95  0.00  1.19  75.18  2.70  8.93  0.00  0.00     7\n",
              "202  1.51514  14.85  0.00  2.42  73.72  0.00  8.39  0.56  0.00     7\n",
              "203  1.51658  14.80  0.00  1.99  73.11  0.00  8.28  1.71  0.00     7\n",
              "204  1.51617  14.95  0.00  2.27  73.30  0.00  8.71  0.67  0.00     7\n",
              "205  1.51732  14.95  0.00  1.80  72.99  0.00  8.61  1.55  0.00     7\n",
              "206  1.51645  14.94  0.00  1.87  73.11  0.00  8.67  1.38  0.00     7\n",
              "207  1.51831  14.39  0.00  1.82  72.86  1.41  6.47  2.88  0.00     7\n",
              "208  1.51640  14.37  0.00  2.74  72.85  0.00  9.45  0.54  0.00     7\n",
              "209  1.51623  14.14  0.00  2.88  72.61  0.08  9.18  1.06  0.00     7\n",
              "210  1.51685  14.92  0.00  1.99  73.06  0.00  8.40  1.59  0.00     7\n",
              "211  1.52065  14.36  0.00  2.02  73.42  0.00  8.44  1.64  0.00     7\n",
              "212  1.51651  14.38  0.00  1.94  73.61  0.00  8.48  1.57  0.00     7\n",
              "213  1.51711  14.23  0.00  2.08  73.36  0.00  8.62  1.67  0.00     7"
            ]
          },
          "metadata": {
            "tags": []
          },
          "execution_count": 124
        }
      ]
    },
    {
      "cell_type": "markdown",
      "metadata": {
        "id": "lk50G2bDnM17",
        "colab_type": "text"
      },
      "source": [
        "Count the no of observations on the basis of type and then create a barplot.\n"
      ]
    },
    {
      "cell_type": "code",
      "metadata": {
        "id": "5H6EeVWTnLla",
        "colab_type": "code",
        "outputId": "f3ed23af-65f0-40b0-824b-233735f9de84",
        "colab": {
          "base_uri": "https://localhost:8080/",
          "height": 153
        }
      },
      "source": [
        "type=glass['Type'].groupby(glass['Type']).count()\n",
        "type"
      ],
      "execution_count": 125,
      "outputs": [
        {
          "output_type": "execute_result",
          "data": {
            "text/plain": [
              "Type\n",
              "1    70\n",
              "2    76\n",
              "3    17\n",
              "5    13\n",
              "6     9\n",
              "7    29\n",
              "Name: Type, dtype: int64"
            ]
          },
          "metadata": {
            "tags": []
          },
          "execution_count": 125
        }
      ]
    },
    {
      "cell_type": "code",
      "metadata": {
        "id": "4J9Zrqosm-Ud",
        "colab_type": "code",
        "outputId": "7a6d3099-b2fb-4e05-c87f-6a87d995394f",
        "colab": {
          "base_uri": "https://localhost:8080/",
          "height": 296
        }
      },
      "source": [
        "type.plot('bar')"
      ],
      "execution_count": 126,
      "outputs": [
        {
          "output_type": "execute_result",
          "data": {
            "text/plain": [
              "<matplotlib.axes._subplots.AxesSubplot at 0x7f8f477d2b70>"
            ]
          },
          "metadata": {
            "tags": []
          },
          "execution_count": 126
        },
        {
          "output_type": "display_data",
          "data": {
            "image/png": "[encoded data removed]",
            "text/plain": [
              "<Figure size 432x288 with 1 Axes>"
            ]
          },
          "metadata": {
            "tags": []
          }
        }
      ]
    },
    {
      "cell_type": "markdown",
      "metadata": {
        "id": "QCjXgAoozNhv",
        "colab_type": "text"
      },
      "source": [
        "Here, we can see glass data is skewed, class 1 and 2 in majority. Seperate 1 and 2 as seperate problem. 3,5,6,7 as seperate problem.\n"
      ]
    },
    {
      "cell_type": "markdown",
      "metadata": {
        "id": "cysqT4lX1gbB",
        "colab_type": "text"
      },
      "source": [
        "\n",
        "\n",
        "```\n",
        "# This is formatted as code\n",
        "```\n",
        "\n",
        "Multivariate graph. Muti dimentions reflected in two dimention view . plotly express"
      ]
    },
    {
      "cell_type": "code",
      "metadata": {
        "id": "qzPAXa68ndn2",
        "colab_type": "code",
        "outputId": "146ca55e-65be-4ffd-ea43-f0539e8a8494",
        "colab": {
          "base_uri": "https://localhost:8080/",
          "height": 420
        }
      },
      "source": [
        "sns.FacetGrid(glass, hue=\"Type\", size=5) \\\n",
        "   .map(plt.scatter, \"RI\", \"Na\") \\\n",
        "   .add_legend()"
      ],
      "execution_count": 127,
      "outputs": [
        {
          "output_type": "stream",
          "text": [
            "/usr/local/lib/python3.6/dist-packages/seaborn/axisgrid.py:230: UserWarning: The `size` paramter has been renamed to `height`; please update your code.\n",
            "  warnings.warn(msg, UserWarning)\n"
          ],
          "name": "stderr"
        },
        {
          "output_type": "execute_result",
          "data": {
            "text/plain": [
              "<seaborn.axisgrid.FacetGrid at 0x7f8f45756860>"
            ]
          },
          "metadata": {
            "tags": []
          },
          "execution_count": 127
        },
        {
          "output_type": "display_data",
          "data": {
            "image/png": "[encoded data removed]",
            "text/plain": [
              "<Figure size 402.375x360 with 1 Axes>"
            ]
          },
          "metadata": {
            "tags": []
          }
        }
      ]
    },
    {
      "cell_type": "code",
      "metadata": {
        "id": "PJxO5sjaWOGi",
        "colab_type": "code",
        "outputId": "3630875c-56d4-491a-f55d-56b70247e57f",
        "colab": {
          "base_uri": "https://localhost:8080/",
          "height": 286
        }
      },
      "source": [
        "from pandas.plotting import andrews_curves\n",
        "andrews_curves(glass, \"Type\")"
      ],
      "execution_count": 128,
      "outputs": [
        {
          "output_type": "execute_result",
          "data": {
            "text/plain": [
              "<matplotlib.axes._subplots.AxesSubplot at 0x7f8f4567ba58>"
            ]
          },
          "metadata": {
            "tags": []
          },
          "execution_count": 128
        },
        {
          "output_type": "display_data",
          "data": {
            "image/png": "[encoded data removed]",
            "text/plain": [
              "<Figure size 432x288 with 1 Axes>"
            ]
          },
          "metadata": {
            "tags": []
          }
        }
      ]
    },
    {
      "cell_type": "code",
      "metadata": {
        "id": "VplLC8KQGB6y",
        "colab_type": "code",
        "outputId": "d6c50923-48d5-4146-e6fa-c20f234bd239",
        "colab": {
          "base_uri": "https://localhost:8080/",
          "height": 286
        }
      },
      "source": [
        "from pandas.plotting import parallel_coordinates\n",
        "parallel_coordinates(glass, \"Type\")"
      ],
      "execution_count": 129,
      "outputs": [
        {
          "output_type": "execute_result",
          "data": {
            "text/plain": [
              "<matplotlib.axes._subplots.AxesSubplot at 0x7f8f454c61d0>"
            ]
          },
          "metadata": {
            "tags": []
          },
          "execution_count": 129
        },
        {
          "output_type": "display_data",
          "data": {
            "image/png": "[encoded data removed]",
            "text/plain": [
              "<Figure size 432x288 with 1 Axes>"
            ]
          },
          "metadata": {
            "tags": []
          }
        }
      ]
    },
    {
      "cell_type": "code",
      "metadata": {
        "id": "2eKNrTeBHsAg",
        "colab_type": "code",
        "outputId": "2fb51ab7-2004-414d-f7ee-ef32c2b4ffff",
        "colab": {
          "base_uri": "https://localhost:8080/",
          "height": 286
        }
      },
      "source": [
        "# Radviz puts each feature as a point on a 2D plane, and then simulates\n",
        "# having each sample attached to those points through a spring weighted\n",
        "# by the relative value for that feature\n",
        "from pandas.plotting import radviz \n",
        "radviz(glass, \"Type\")"
      ],
      "execution_count": 130,
      "outputs": [
        {
          "output_type": "execute_result",
          "data": {
            "text/plain": [
              "<matplotlib.axes._subplots.AxesSubplot at 0x7f8f4567b3c8>"
            ]
          },
          "metadata": {
            "tags": []
          },
          "execution_count": 130
        },
        {
          "output_type": "display_data",
          "data": {
            "image/png": "[encoded data removed]",
            "text/plain": [
              "<Figure size 432x288 with 1 Axes>"
            ]
          },
          "metadata": {
            "tags": []
          }
        }
      ]
    },
    {
      "cell_type": "code",
      "metadata": {
        "id": "JwMhu8MsIlCx",
        "colab_type": "code",
        "colab": {}
      },
      "source": [
        ""
      ],
      "execution_count": 0,
      "outputs": []
    },
    {
      "cell_type": "markdown",
      "metadata": {
        "id": "Y2kqDUCKImFi",
        "colab_type": "text"
      },
      "source": [
        "Class weight will help us to take care of imbalance data"
      ]
    },
    {
      "cell_type": "code",
      "metadata": {
        "id": "vOuu0Eu3HHwU",
        "colab_type": "code",
        "outputId": "379053cf-5c6d-436b-d71f-474f5affcdea",
        "colab": {
          "base_uri": "https://localhost:8080/",
          "height": 204
        }
      },
      "source": [
        "glass.skew()"
      ],
      "execution_count": 131,
      "outputs": [
        {
          "output_type": "execute_result",
          "data": {
            "text/plain": [
              "RI      1.625431\n",
              "Na      0.454181\n",
              "Mg     -1.152559\n",
              "Al      0.907290\n",
              "Si     -0.730447\n",
              "K       6.551648\n",
              "Ca      2.047054\n",
              "Ba      3.416425\n",
              "Fe      1.754327\n",
              "Type    1.114915\n",
              "dtype: float64"
            ]
          },
          "metadata": {
            "tags": []
          },
          "execution_count": 131
        }
      ]
    },
    {
      "cell_type": "code",
      "metadata": {
        "id": "yQop1Dqyz1u3",
        "colab_type": "code",
        "colab": {
          "base_uri": "https://localhost:8080/",
          "height": 34
        },
        "outputId": "f2834496-6467-41ca-fd2c-5302c5b1ae2e"
      },
      "source": [
        "from sklearn.preprocessing import StandardScaler\n",
        "sc = StandardScaler()\n",
        "\n",
        "label = glass.pop('Type')\n",
        "sc.fit(glass)                                                                                   # fit the data to Standardscaler\n",
        "\n"
      ],
      "execution_count": 132,
      "outputs": [
        {
          "output_type": "execute_result",
          "data": {
            "text/plain": [
              "StandardScaler(copy=True, with_mean=True, with_std=True)"
            ]
          },
          "metadata": {
            "tags": []
          },
          "execution_count": 132
        }
      ]
    },
    {
      "cell_type": "code",
      "metadata": {
        "id": "qLpyQZXbyuY1",
        "colab_type": "code",
        "colab": {
          "base_uri": "https://localhost:8080/",
          "height": 187
        },
        "outputId": "e40558dc-472e-4b4d-d6c7-21fbdd563307"
      },
      "source": [
        "\n",
        "glass_scale = sc.transform(glass)                                                               # transform the data\n",
        "\n",
        "print('After standardizing our features, the first 5 rows of our data now look like this:\\n')   # print the first 5 value after standardization\n",
        "print(pd.DataFrame(glass_scale, columns=glass.columns).head())                                  # Put it to dataframe                              \n"
      ],
      "execution_count": 133,
      "outputs": [
        {
          "output_type": "stream",
          "text": [
            "After standardizing our features, the first 5 rows of our data now look like this:\n",
            "\n",
            "         RI        Na        Mg  ...        Ca        Ba        Fe\n",
            "0  0.872868  0.284953  1.254639  ... -0.145766 -0.352877 -0.586451\n",
            "1 -0.249333  0.591817  0.636168  ... -0.793734 -0.352877 -0.586451\n",
            "2 -0.721318  0.149933  0.601422  ... -0.828949 -0.352877 -0.586451\n",
            "3 -0.232831 -0.242853  0.698710  ... -0.519052 -0.352877 -0.586451\n",
            "4 -0.312045 -0.169205  0.650066  ... -0.624699 -0.352877 -0.586451\n",
            "\n",
            "[5 rows x 9 columns]\n"
          ],
          "name": "stdout"
        }
      ]
    },
    {
      "cell_type": "code",
      "metadata": {
        "id": "g079qyirJCKK",
        "colab_type": "code",
        "colab": {}
      },
      "source": [
        "from sklearn.model_selection import train_test_split\n",
        "data_train, data_test, label_train, label_test = train_test_split(glass_scale, label, test_size = 0.3, random_state = 42)"
      ],
      "execution_count": 0,
      "outputs": []
    },
    {
      "cell_type": "code",
      "metadata": {
        "id": "coRpXwk4JFB1",
        "colab_type": "code",
        "outputId": "9b6e208e-b20c-4dff-b2da-abe39bfd6f4f",
        "colab": {
          "base_uri": "https://localhost:8080/",
          "height": 51
        }
      },
      "source": [
        "print('There are {} samples in the training set and {} samples in the test set'.format(\n",
        "data_train.shape[0], data_test.shape[0]))\n",
        "print()"
      ],
      "execution_count": 135,
      "outputs": [
        {
          "output_type": "stream",
          "text": [
            "There are 149 samples in the training set and 65 samples in the test set\n",
            "\n"
          ],
          "name": "stdout"
        }
      ]
    },
    {
      "cell_type": "code",
      "metadata": {
        "id": "Ji_DLWyaJLxc",
        "colab_type": "code",
        "colab": {}
      },
      "source": [
        "from sklearn.neighbors import KNeighborsClassifier\n",
        "knn = KNeighborsClassifier(n_neighbors=8, p=2, metric='minkowski',n_jobs=-1)"
      ],
      "execution_count": 0,
      "outputs": []
    },
    {
      "cell_type": "markdown",
      "metadata": {
        "id": "MXiG-tzbJhkt",
        "colab_type": "text"
      },
      "source": [
        "p=2 means we are using euclidean distance and metric is minskowsi"
      ]
    },
    {
      "cell_type": "code",
      "metadata": {
        "id": "_gSj-RmEJRbW",
        "colab_type": "code",
        "outputId": "77bf26c0-4476-49cd-9326-aee8106391f0",
        "colab": {
          "base_uri": "https://localhost:8080/",
          "height": 68
        }
      },
      "source": [
        "knn.fit(data_train, label_train)"
      ],
      "execution_count": 137,
      "outputs": [
        {
          "output_type": "execute_result",
          "data": {
            "text/plain": [
              "KNeighborsClassifier(algorithm='auto', leaf_size=30, metric='minkowski',\n",
              "                     metric_params=None, n_jobs=-1, n_neighbors=8, p=2,\n",
              "                     weights='uniform')"
            ]
          },
          "metadata": {
            "tags": []
          },
          "execution_count": 137
        }
      ]
    },
    {
      "cell_type": "code",
      "metadata": {
        "id": "GAjmxNYR2Czu",
        "colab_type": "code",
        "colab": {}
      },
      "source": [
        "y_expect=label_test"
      ],
      "execution_count": 0,
      "outputs": []
    },
    {
      "cell_type": "code",
      "metadata": {
        "id": "URLeZyNlKVxv",
        "colab_type": "code",
        "colab": {}
      },
      "source": [
        "y_preds = knn.predict(data_test)"
      ],
      "execution_count": 0,
      "outputs": []
    },
    {
      "cell_type": "code",
      "metadata": {
        "id": "iBs18DJK2XBG",
        "colab_type": "code",
        "colab": {
          "base_uri": "https://localhost:8080/",
          "height": 292
        },
        "outputId": "8d300dfb-148a-4231-c35a-6fdc23d0e581"
      },
      "source": [
        "from sklearn import metrics\n",
        "print(metrics.classification_report(y_expect,y_preds))"
      ],
      "execution_count": 149,
      "outputs": [
        {
          "output_type": "stream",
          "text": [
            "              precision    recall  f1-score   support\n",
            "\n",
            "           1       0.57      0.84      0.68        19\n",
            "           2       0.58      0.61      0.60        23\n",
            "           3       0.00      0.00      0.00         4\n",
            "           5       1.00      0.17      0.29         6\n",
            "           6       1.00      0.67      0.80         3\n",
            "           7       0.90      0.90      0.90        10\n",
            "\n",
            "    accuracy                           0.65        65\n",
            "   macro avg       0.68      0.53      0.54        65\n",
            "weighted avg       0.65      0.65      0.61        65\n",
            "\n"
          ],
          "name": "stdout"
        },
        {
          "output_type": "stream",
          "text": [
            "/usr/local/lib/python3.6/dist-packages/sklearn/metrics/classification.py:1437: UndefinedMetricWarning: Precision and F-score are ill-defined and being set to 0.0 in labels with no predicted samples.\n",
            "  'precision', 'predicted', average, warn_for)\n"
          ],
          "name": "stderr"
        }
      ]
    },
    {
      "cell_type": "code",
      "metadata": {
        "id": "kw4UXhN8KhZF",
        "colab_type": "code",
        "outputId": "b58881c5-3765-4ef4-b631-eb5417496364",
        "colab": {
          "base_uri": "https://localhost:8080/",
          "height": 34
        }
      },
      "source": [
        "from sklearn.metrics import accuracy_score\n",
        "knn_accuracy = accuracy_score(label_test,y_preds)\n",
        "print('Accuracy score for the KNN model:', knn_accuracy)"
      ],
      "execution_count": 150,
      "outputs": [
        {
          "output_type": "stream",
          "text": [
            "Accuracy score for the KNN model: 0.6461538461538462\n"
          ],
          "name": "stdout"
        }
      ]
    },
    {
      "cell_type": "code",
      "metadata": {
        "id": "5wzJcM03K3Gn",
        "colab_type": "code",
        "colab": {}
      },
      "source": [
        "from sklearn.linear_model import LogisticRegression\n",
        "logis = LogisticRegression()"
      ],
      "execution_count": 0,
      "outputs": []
    },
    {
      "cell_type": "code",
      "metadata": {
        "id": "sV3pp3AiK5az",
        "colab_type": "code",
        "outputId": "76598b3d-0f75-4f3e-8a81-196278bd9892",
        "colab": {
          "base_uri": "https://localhost:8080/",
          "height": 190
        }
      },
      "source": [
        "logis.fit(data_train, label_train)"
      ],
      "execution_count": 152,
      "outputs": [
        {
          "output_type": "stream",
          "text": [
            "/usr/local/lib/python3.6/dist-packages/sklearn/linear_model/logistic.py:432: FutureWarning: Default solver will be changed to 'lbfgs' in 0.22. Specify a solver to silence this warning.\n",
            "  FutureWarning)\n",
            "/usr/local/lib/python3.6/dist-packages/sklearn/linear_model/logistic.py:469: FutureWarning: Default multi_class will be changed to 'auto' in 0.22. Specify the multi_class option to silence this warning.\n",
            "  \"this warning.\", FutureWarning)\n"
          ],
          "name": "stderr"
        },
        {
          "output_type": "execute_result",
          "data": {
            "text/plain": [
              "LogisticRegression(C=1.0, class_weight=None, dual=False, fit_intercept=True,\n",
              "                   intercept_scaling=1, l1_ratio=None, max_iter=100,\n",
              "                   multi_class='warn', n_jobs=None, penalty='l2',\n",
              "                   random_state=None, solver='warn', tol=0.0001, verbose=0,\n",
              "                   warm_start=False)"
            ]
          },
          "metadata": {
            "tags": []
          },
          "execution_count": 152
        }
      ]
    },
    {
      "cell_type": "code",
      "metadata": {
        "id": "jtwbExSAK-_W",
        "colab_type": "code",
        "colab": {}
      },
      "source": [
        "y_pred = logis.predict(data_test)"
      ],
      "execution_count": 0,
      "outputs": []
    },
    {
      "cell_type": "code",
      "metadata": {
        "id": "72WzvtNDLF2o",
        "colab_type": "code",
        "outputId": "dfb66923-606b-41b2-f9a1-43754525bf9d",
        "colab": {
          "base_uri": "https://localhost:8080/",
          "height": 34
        }
      },
      "source": [
        "from sklearn.metrics import accuracy_score\n",
        "logit_accuracy = accuracy_score(label_test,y_pred)\n",
        "print('Accuracy score for the Logistic model:', logit_accuracy)"
      ],
      "execution_count": 154,
      "outputs": [
        {
          "output_type": "stream",
          "text": [
            "Accuracy score for the Logistic model: 0.6307692307692307\n"
          ],
          "name": "stdout"
        }
      ]
    },
    {
      "cell_type": "code",
      "metadata": {
        "id": "d2jQ6eseLobr",
        "colab_type": "code",
        "outputId": "568a8a92-3e03-479b-830b-33758933619e",
        "colab": {
          "base_uri": "https://localhost:8080/",
          "height": 111
        }
      },
      "source": [
        "models = pd.DataFrame({\n",
        "        'Model'          : ['Logistic Regression', 'kNN'],\n",
        "        'Accuracy_score' : [logit_accuracy, knn_accuracy]\n",
        "    })\n",
        "models.sort_values(by='Accuracy_score', ascending=False)"
      ],
      "execution_count": 155,
      "outputs": [
        {
          "output_type": "execute_result",
          "data": {
            "text/html": [
              "<div>\n",
              "<style scoped>\n",
              "    .dataframe tbody tr th:only-of-type {\n",
              "        vertical-align: middle;\n",
              "    }\n",
              "\n",
              "    .dataframe tbody tr th {\n",
              "        vertical-align: top;\n",
              "    }\n",
              "\n",
              "    .dataframe thead th {\n",
              "        text-align: right;\n",
              "    }\n",
              "</style>\n",
              "<table border=\"1\" class=\"dataframe\">\n",
              "  <thead>\n",
              "    <tr style=\"text-align: right;\">\n",
              "      <th></th>\n",
              "      <th>Model</th>\n",
              "      <th>Accuracy_score</th>\n",
              "    </tr>\n",
              "  </thead>\n",
              "  <tbody>\n",
              "    <tr>\n",
              "      <th>1</th>\n",
              "      <td>kNN</td>\n",
              "      <td>0.646154</td>\n",
              "    </tr>\n",
              "    <tr>\n",
              "      <th>0</th>\n",
              "      <td>Logistic Regression</td>\n",
              "      <td>0.630769</td>\n",
              "    </tr>\n",
              "  </tbody>\n",
              "</table>\n",
              "</div>"
            ],
            "text/plain": [
              "                 Model  Accuracy_score\n",
              "1                  kNN        0.646154\n",
              "0  Logistic Regression        0.630769"
            ]
          },
          "metadata": {
            "tags": []
          },
          "execution_count": 155
        }
      ]
    },
    {
      "cell_type": "code",
      "metadata": {
        "id": "k67lfU11LvSh",
        "colab_type": "code",
        "colab": {}
      },
      "source": [
        ""
      ],
      "execution_count": 0,
      "outputs": []
    }
  ]
}