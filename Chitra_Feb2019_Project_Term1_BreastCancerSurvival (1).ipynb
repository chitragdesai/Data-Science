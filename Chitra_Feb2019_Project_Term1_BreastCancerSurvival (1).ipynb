{
 "cells": [
  {
   "cell_type": "markdown",
   "metadata": {},
   "source": [
    "# Project: Breast Cancer Survival \n",
    "### Term 1: Exploratory Data Analysis"
   ]
  },
  {
   "cell_type": "markdown",
   "metadata": {},
   "source": [
    "### Table of Contents\n",
    "1. [Problem Statement](#section1)</br>\n",
    "2. [Introduction](#section2)<br/>\n",
    "3. [Data source and data set](#section3)<br/>\n",
    "4. [Load the packages and data](#section4)</br>\n",
    "5. [Data profiling](#section5)</br>\n",
    "6. [Observation](#section6)</br>\n",
    "7. [Analysis through questions](#section6)</br>\n",
    "    1. Data made available for study if for what period?\n",
    "    2. What is the percentage of five year survival rate after diagnosis?\n",
    "    3. How Positive lymph node is related to node status ans stage of cancer?\n",
    "    3. How is age related to breast cancer and breast cancer survival?\n",
    "    4. Which year has more number of operations performed?\n",
    "    5. What percentage of survival rate is observed for different node status categories?\n",
    "     \n",
    "8. [Hypothesis](#section8)<br/> If number of positive lymph node is high th survival rate is low\n",
    "9. [Conclusion](#section9)<br/>"
   ]
  },
  {
   "cell_type": "markdown",
   "metadata": {},
   "source": [
    "<a id=section1></a>\n",
    "### 1. Problem Statement\n",
    "\n",
    "Analysis of breast cancer survival data for a period from 1958 to 1969 to examine five year survival rate in association with positive lymph nodes present. "
   ]
  },
  {
   "cell_type": "markdown",
   "metadata": {},
   "source": [
    "<a id=section2></a>\n",
    "### 2. Introduction\n"
   ]
  },
  {
   "cell_type": "markdown",
   "metadata": {},
   "source": [
    "\n",
    "Breast Cancer is a Disease in which (cancer) cells form in the tissues of the breast.Breast Cancer affects one in eight women during their lives.Breast Cancer can be both in men and women.The 5-year survival rate is the percentage of people who are alive five years after receiving a diagnosis.\n",
    "\n",
    "The stages of breast cancer relate to how much the cancer has grown and how far it has spread.\n",
    "Stage 0 is a precancerous stage and represents atypical or abnormal cells, but no invasive cancer cells. \n",
    "Stage 1 is when the tumor is small and localized to the breast. \n",
    "Stage 2 is when the tumor is smaller than 2 centimeters (cm) but has spread to the lymph nodes, or is 2 to 5 cm but has not spread to the lymph nodes. \n",
    "Stage 3 breast cancer includes various categories, including cancers that have spread to the skin, chest wall, or multiple lymph nodes in or near the breast. \n",
    "Stage 4 is metastatic breast cancer, meaning it has spread to one or more distant parts of the body, most commonly to the bones, lungs, or liver. \n",
    "\n",
    "Breast cancer often spreads first to the axillary (underarm) lymph nodes from the breast, determining whether the lymph nodes contain cancer is an essential part of the breast cancer diagnostic process. The status of the lymph nodes helps physicians stage breast cancer, and in turn, determine treatment.Lymph node-negative means the axillary lymph nodes do not contain cancer.\n",
    "Lymph node-positive means the axillary lymph nodes contain cancer.\n",
    "\n",
    "Age also is an important factor to be considered in case of Breast cancer paptients."
   ]
  },
  {
   "cell_type": "markdown",
   "metadata": {},
   "source": [
    "<a id=section3></a>\n",
    "### 3. Data Source and Data Set\n",
    "\n",
    "A data set is made available for study as a part of project activity for the couse. The data appears to be properly sampled.\n"
   ]
  },
  {
   "cell_type": "markdown",
   "metadata": {},
   "source": [
    "<a id=section4></a>\n",
    "### 4. Load the Packages and Data"
   ]
  },
  {
   "cell_type": "code",
   "execution_count": 1,
   "metadata": {},
   "outputs": [
    {
     "name": "stdout",
     "output_type": "stream",
     "text": [
      "Empty DataFrame\n",
      "Columns: []\n",
      "Index: []\n"
     ]
    }
   ],
   "source": [
    "import numpy as np\n",
    "import pandas as pd\n",
    "import pandas_profiling\n",
    "import matplotlib.pyplot as plt\n",
    "\n",
    "df1=pd.DataFrame()\n",
    "\n",
    "print(df1)"
   ]
  },
  {
   "cell_type": "code",
   "execution_count": 2,
   "metadata": {},
   "outputs": [],
   "source": [
    "# Read the file in data frame from the source\n",
    "df1=pd.read_csv('https://raw.githubusercontent.com/insaid2018/Term-1/master/Data/Projects/Breast_cancer_survival.csv ')"
   ]
  },
  {
   "cell_type": "code",
   "execution_count": 3,
   "metadata": {},
   "outputs": [],
   "source": [
    "# Save the file on local disk\n",
    "df1.to_csv('bcs.csv',header=True, index=False)"
   ]
  },
  {
   "cell_type": "markdown",
   "metadata": {},
   "source": [
    "<a id=section5></a>\n",
    "### 5. Data Profiling"
   ]
  },
  {
   "cell_type": "code",
   "execution_count": 4,
   "metadata": {},
   "outputs": [],
   "source": [
    "# Read the file saved as bcs.csv to dataframe \n",
    "df=pd.read_csv('bcs.csv')"
   ]
  },
  {
   "cell_type": "code",
   "execution_count": 5,
   "metadata": {},
   "outputs": [
    {
     "data": {
      "text/plain": [
       "(306, 4)"
      ]
     },
     "execution_count": 5,
     "metadata": {},
     "output_type": "execute_result"
    }
   ],
   "source": [
    "df.shape"
   ]
  },
  {
   "cell_type": "code",
   "execution_count": 6,
   "metadata": {},
   "outputs": [
    {
     "data": {
      "text/plain": [
       "Age                   306\n",
       "Years_of_operation    306\n",
       "Pos_axillary_nodes    306\n",
       "Status                306\n",
       "dtype: int64"
      ]
     },
     "execution_count": 6,
     "metadata": {},
     "output_type": "execute_result"
    }
   ],
   "source": [
    "df.count()"
   ]
  },
  {
   "cell_type": "code",
   "execution_count": 7,
   "metadata": {},
   "outputs": [
    {
     "data": {
      "text/html": [
       "<div>\n",
       "<style scoped>\n",
       "    .dataframe tbody tr th:only-of-type {\n",
       "        vertical-align: middle;\n",
       "    }\n",
       "\n",
       "    .dataframe tbody tr th {\n",
       "        vertical-align: top;\n",
       "    }\n",
       "\n",
       "    .dataframe thead th {\n",
       "        text-align: right;\n",
       "    }\n",
       "</style>\n",
       "<table border=\"1\" class=\"dataframe\">\n",
       "  <thead>\n",
       "    <tr style=\"text-align: right;\">\n",
       "      <th></th>\n",
       "      <th>Age</th>\n",
       "      <th>Years_of_operation</th>\n",
       "      <th>Pos_axillary_nodes</th>\n",
       "      <th>Status</th>\n",
       "    </tr>\n",
       "  </thead>\n",
       "  <tbody>\n",
       "    <tr>\n",
       "      <th>0</th>\n",
       "      <td>30</td>\n",
       "      <td>64</td>\n",
       "      <td>1</td>\n",
       "      <td>1</td>\n",
       "    </tr>\n",
       "    <tr>\n",
       "      <th>1</th>\n",
       "      <td>30</td>\n",
       "      <td>62</td>\n",
       "      <td>3</td>\n",
       "      <td>1</td>\n",
       "    </tr>\n",
       "    <tr>\n",
       "      <th>2</th>\n",
       "      <td>30</td>\n",
       "      <td>65</td>\n",
       "      <td>0</td>\n",
       "      <td>1</td>\n",
       "    </tr>\n",
       "    <tr>\n",
       "      <th>3</th>\n",
       "      <td>31</td>\n",
       "      <td>59</td>\n",
       "      <td>2</td>\n",
       "      <td>1</td>\n",
       "    </tr>\n",
       "    <tr>\n",
       "      <th>4</th>\n",
       "      <td>31</td>\n",
       "      <td>65</td>\n",
       "      <td>4</td>\n",
       "      <td>1</td>\n",
       "    </tr>\n",
       "    <tr>\n",
       "      <th>5</th>\n",
       "      <td>33</td>\n",
       "      <td>58</td>\n",
       "      <td>10</td>\n",
       "      <td>1</td>\n",
       "    </tr>\n",
       "    <tr>\n",
       "      <th>6</th>\n",
       "      <td>33</td>\n",
       "      <td>60</td>\n",
       "      <td>0</td>\n",
       "      <td>1</td>\n",
       "    </tr>\n",
       "    <tr>\n",
       "      <th>7</th>\n",
       "      <td>34</td>\n",
       "      <td>59</td>\n",
       "      <td>0</td>\n",
       "      <td>2</td>\n",
       "    </tr>\n",
       "    <tr>\n",
       "      <th>8</th>\n",
       "      <td>34</td>\n",
       "      <td>66</td>\n",
       "      <td>9</td>\n",
       "      <td>2</td>\n",
       "    </tr>\n",
       "    <tr>\n",
       "      <th>9</th>\n",
       "      <td>34</td>\n",
       "      <td>58</td>\n",
       "      <td>30</td>\n",
       "      <td>1</td>\n",
       "    </tr>\n",
       "  </tbody>\n",
       "</table>\n",
       "</div>"
      ],
      "text/plain": [
       "   Age  Years_of_operation  Pos_axillary_nodes  Status\n",
       "0   30                  64                   1       1\n",
       "1   30                  62                   3       1\n",
       "2   30                  65                   0       1\n",
       "3   31                  59                   2       1\n",
       "4   31                  65                   4       1\n",
       "5   33                  58                  10       1\n",
       "6   33                  60                   0       1\n",
       "7   34                  59                   0       2\n",
       "8   34                  66                   9       2\n",
       "9   34                  58                  30       1"
      ]
     },
     "execution_count": 7,
     "metadata": {},
     "output_type": "execute_result"
    }
   ],
   "source": [
    "df.head(10)"
   ]
  },
  {
   "cell_type": "code",
   "execution_count": 8,
   "metadata": {},
   "outputs": [
    {
     "data": {
      "text/plain": [
       "Age                   int64\n",
       "Years_of_operation    int64\n",
       "Pos_axillary_nodes    int64\n",
       "Status                int64\n",
       "dtype: object"
      ]
     },
     "execution_count": 8,
     "metadata": {},
     "output_type": "execute_result"
    }
   ],
   "source": [
    "df.dtypes"
   ]
  },
  {
   "cell_type": "code",
   "execution_count": 9,
   "metadata": {},
   "outputs": [
    {
     "name": "stdout",
     "output_type": "stream",
     "text": [
      "<class 'pandas.core.frame.DataFrame'>\n",
      "RangeIndex: 306 entries, 0 to 305\n",
      "Data columns (total 4 columns):\n",
      "Age                   306 non-null int64\n",
      "Years_of_operation    306 non-null int64\n",
      "Pos_axillary_nodes    306 non-null int64\n",
      "Status                306 non-null int64\n",
      "dtypes: int64(4)\n",
      "memory usage: 9.6 KB\n"
     ]
    }
   ],
   "source": [
    "df.info()"
   ]
  },
  {
   "cell_type": "code",
   "execution_count": 10,
   "metadata": {},
   "outputs": [
    {
     "data": {
      "text/html": [
       "<div>\n",
       "<style scoped>\n",
       "    .dataframe tbody tr th:only-of-type {\n",
       "        vertical-align: middle;\n",
       "    }\n",
       "\n",
       "    .dataframe tbody tr th {\n",
       "        vertical-align: top;\n",
       "    }\n",
       "\n",
       "    .dataframe thead th {\n",
       "        text-align: right;\n",
       "    }\n",
       "</style>\n",
       "<table border=\"1\" class=\"dataframe\">\n",
       "  <thead>\n",
       "    <tr style=\"text-align: right;\">\n",
       "      <th></th>\n",
       "      <th>Age</th>\n",
       "      <th>Years_of_operation</th>\n",
       "      <th>Pos_axillary_nodes</th>\n",
       "      <th>Status</th>\n",
       "    </tr>\n",
       "  </thead>\n",
       "  <tbody>\n",
       "    <tr>\n",
       "      <th>count</th>\n",
       "      <td>306.000000</td>\n",
       "      <td>306.000000</td>\n",
       "      <td>306.000000</td>\n",
       "      <td>306.000000</td>\n",
       "    </tr>\n",
       "    <tr>\n",
       "      <th>mean</th>\n",
       "      <td>52.457516</td>\n",
       "      <td>62.852941</td>\n",
       "      <td>4.026144</td>\n",
       "      <td>1.264706</td>\n",
       "    </tr>\n",
       "    <tr>\n",
       "      <th>std</th>\n",
       "      <td>10.803452</td>\n",
       "      <td>3.249405</td>\n",
       "      <td>7.189654</td>\n",
       "      <td>0.441899</td>\n",
       "    </tr>\n",
       "    <tr>\n",
       "      <th>min</th>\n",
       "      <td>30.000000</td>\n",
       "      <td>58.000000</td>\n",
       "      <td>0.000000</td>\n",
       "      <td>1.000000</td>\n",
       "    </tr>\n",
       "    <tr>\n",
       "      <th>25%</th>\n",
       "      <td>44.000000</td>\n",
       "      <td>60.000000</td>\n",
       "      <td>0.000000</td>\n",
       "      <td>1.000000</td>\n",
       "    </tr>\n",
       "    <tr>\n",
       "      <th>50%</th>\n",
       "      <td>52.000000</td>\n",
       "      <td>63.000000</td>\n",
       "      <td>1.000000</td>\n",
       "      <td>1.000000</td>\n",
       "    </tr>\n",
       "    <tr>\n",
       "      <th>75%</th>\n",
       "      <td>60.750000</td>\n",
       "      <td>65.750000</td>\n",
       "      <td>4.000000</td>\n",
       "      <td>2.000000</td>\n",
       "    </tr>\n",
       "    <tr>\n",
       "      <th>max</th>\n",
       "      <td>83.000000</td>\n",
       "      <td>69.000000</td>\n",
       "      <td>52.000000</td>\n",
       "      <td>2.000000</td>\n",
       "    </tr>\n",
       "  </tbody>\n",
       "</table>\n",
       "</div>"
      ],
      "text/plain": [
       "              Age  Years_of_operation  Pos_axillary_nodes      Status\n",
       "count  306.000000          306.000000          306.000000  306.000000\n",
       "mean    52.457516           62.852941            4.026144    1.264706\n",
       "std     10.803452            3.249405            7.189654    0.441899\n",
       "min     30.000000           58.000000            0.000000    1.000000\n",
       "25%     44.000000           60.000000            0.000000    1.000000\n",
       "50%     52.000000           63.000000            1.000000    1.000000\n",
       "75%     60.750000           65.750000            4.000000    2.000000\n",
       "max     83.000000           69.000000           52.000000    2.000000"
      ]
     },
     "execution_count": 10,
     "metadata": {},
     "output_type": "execute_result"
    }
   ],
   "source": [
    "df.describe()"
   ]
  },
  {
   "cell_type": "code",
   "execution_count": 11,
   "metadata": {},
   "outputs": [],
   "source": [
    "# Data Profiling\n",
    "profile = pandas_profiling.ProfileReport(df)\n",
    "profile.to_file(outputfile=\"Breast_Cancer_Sur.html\")"
   ]
  },
  {
   "cell_type": "code",
   "execution_count": 12,
   "metadata": {},
   "outputs": [
    {
     "data": {
      "text/plain": [
       "[58, 59, 60, 61, 62, 63, 64, 65, 66, 67, 68, 69]"
      ]
     },
     "execution_count": 12,
     "metadata": {},
     "output_type": "execute_result"
    }
   ],
   "source": [
    "sorted(df.Years_of_operation.unique())"
   ]
  },
  {
   "cell_type": "markdown",
   "metadata": {},
   "source": [
    "<a id=section6></a>\n",
    "### 6. Observation\n",
    "The file contains 306 records.It contains record of the breast cancer survival in the age group of 30 to 83. The status represent the 5 year survival rate and has a boolean value. Value 1 represents that the patient survived for atleast 5 years after getting diagnosed with cancer and 2 represents not.The frquency count for 1 is 225 and for 2 it is 81.The field name years_of_operation with two digit values were bit confusing. However, when the unique values were identified ,it clicked that probably it represented data for a period from 1958 to 1969 and the same was confirmed from team INSAID. The value of pos_axillary_nodes represent the number of positive lymph nodes. As the mean value for this field is 4.026 where as max value in this field is 52,probably there are outliers which need to be taken care while further analyzing it.There are 136 records where the Pos_axillary_nodes node value is 0.However, it is possible that there are zero positive lymph node."
   ]
  },
  {
   "cell_type": "markdown",
   "metadata": {},
   "source": [
    "<a id=section7></a>\n",
    "### 7. Analysis"
   ]
  },
  {
   "cell_type": "markdown",
   "metadata": {},
   "source": [
    "matplotlib inline"
   ]
  },
  {
   "cell_type": "code",
   "execution_count": 14,
   "metadata": {},
   "outputs": [
    {
     "data": {
      "image/png": "[encoded data removed]",
      "text/plain": [
       "<Figure size 72x144 with 1 Axes>"
      ]
     },
     "metadata": {
      "needs_background": "light"
     },
     "output_type": "display_data"
    }
   ],
   "source": [
    "def create():\n",
    "    df['Status'].plot.hist(figsize=(1,2))\n",
    "    return None\n",
    "create()"
   ]
  },
  {
   "cell_type": "code",
   "execution_count": 15,
   "metadata": {},
   "outputs": [
    {
     "data": {
      "image/png": "[encoded data removed]",
      "text/plain": [
       "<Figure size 432x288 with 1 Axes>"
      ]
     },
     "metadata": {},
     "output_type": "display_data"
    }
   ],
   "source": [
    "st=['1','2']\n",
    "colors=('b','r')\n",
    "plt.pie(df['Status'].value_counts(),labels=st,colors=colors,autopct='%.lf%%')\n",
    "plt.show();"
   ]
  },
  {
   "cell_type": "markdown",
   "metadata": {},
   "source": [
    "### Observation 1\n",
    "74% Patient has attended 5 year Survival Rate ie Status is 1 and 26% with status 2 are those who could not survive for more than five years."
   ]
  },
  {
   "cell_type": "code",
   "execution_count": 16,
   "metadata": {},
   "outputs": [
    {
     "data": {
      "image/png": "[encoded data removed]",
      "text/plain": [
       "<Figure size 432x288 with 1 Axes>"
      ]
     },
     "metadata": {
      "needs_background": "light"
     },
     "output_type": "display_data"
    }
   ],
   "source": [
    "def create():\n",
    "    df.plot.scatter(x='Age', y='Pos_axillary_nodes',xlim=30,ylim=0)\n",
    "    return None\n",
    "create()"
   ]
  },
  {
   "cell_type": "code",
   "execution_count": 26,
   "metadata": {},
   "outputs": [
    {
     "name": "stdout",
     "output_type": "stream",
     "text": [
      "     Age  Years_of_operation  Pos_axillary_nodes  Status\n",
      "285   70                  58                   0       2\n",
      "286   70                  58                   4       2\n",
      "287   70                  66                  14       1\n",
      "288   70                  67                   0       1\n",
      "289   70                  68                   0       1\n",
      "290   70                  59                   8       1\n",
      "291   70                  63                   0       1\n",
      "292   71                  68                   2       1\n",
      "293   72                  63                   0       2\n",
      "294   72                  58                   0       1\n",
      "295   72                  64                   0       1\n",
      "296   72                  67                   3       1\n",
      "297   73                  62                   0       1\n",
      "298   73                  68                   0       1\n",
      "299   74                  65                   3       2\n",
      "300   74                  63                   0       1\n",
      "301   75                  62                   1       1\n",
      "302   76                  67                   0       1\n",
      "303   77                  65                   3       1\n",
      "304   78                  65                   1       2\n",
      "305   83                  58                   2       2\n"
     ]
    },
    {
     "data": {
      "image/png": "[encoded data removed]",
      "text/plain": [
       "<Figure size 432x288 with 1 Axes>"
      ]
     },
     "metadata": {},
     "output_type": "display_data"
    }
   ],
   "source": [
    "status1=df['Status']==1\n",
    "status2=df['Status']==2\n",
    "a=df[df.Age>=70]\n",
    "\n",
    "print(a)\n",
    "st=['1','2']\n",
    "colors=('b','m')\n",
    "plt.pie(a['Status'].value_counts(),labels=st,colors=colors,autopct='%.lf%%')\n",
    "plt.show();"
   ]
  },
  {
   "cell_type": "markdown",
   "metadata": {},
   "source": [
    "### Lymph node Status\n",
    "N0 : Axillary and other lymph nodes do not have cancer or area of cancer smaller than 0.2mm\n",
    "N1 : 1-3 Axillary lymph node has cancer\n",
    "N2 : 4-9 Axillary lymph node has cancer\n",
    "N3 : 10 or more axillary lymph node has cancer"
   ]
  },
  {
   "cell_type": "markdown",
   "metadata": {},
   "source": [
    "### Stages in Cancer\n",
    "The most commonly used tool that doctors use to describe the stage is the TNM system. Where:\n",
    "Tumor (T) : Refers to size of tumor\n",
    "Node (N) : Number of lymph node affected\n",
    "Metasis (M): How much has the cancer spread to other parts of the body?\n",
    "\n",
    "The stage of cancer related to pos Lymph node (Reference is made to www.cancer.net/cancer-type/stages)\n",
    "\n",
    "Stage 0 and IA : Node status N0\n",
    "satge IB: Node status N1(1)\n",
    "stage IIA: Node status N1(2)\n",
    "stage IIB: Node status N1(3)\n",
    "stage IIIA:Node status N1\n",
    "stage IIIB: Node status N2\n",
    "stage IIIC: Node status N3\n",
    "stage IV : Any number of node and more related to metastatic breast cancer\n",
    "\n",
    "#### Data Available and Limitations:\n",
    "The data available for study has only the number of positive lymph node and the details regarding T and M are not available.\n",
    "\n",
    "#### Assumption\n",
    "Assuming only the N value the stage of cancer are identified for the present data set. \n",
    "It is assumed for the categorization that for stage 0: N0, stage I: N1(1), stage II : N1(2), stage IIIA:N1(3), stage IIIB:N2, stage IIIC: N3 and for stage IV : number of lymph node above 10\n",
    "\n",
    "\n",
    "\n",
    "\n"
   ]
  },
  {
   "cell_type": "markdown",
   "metadata": {},
   "source": [
    "### Observation 2\n",
    "1. It observed that there are 4 points which shows 30 and above positive lymph nodes and can be treated as outlier refering to the fact that the number 30 itself is the upper limit in most of the cases representing positive lymph nodes.\n",
    "2. It is observed that women over age 70 have positive lymph nodes between 0 to 4 except 1 (ie 14) and five year survival rate is 71%.\n"
   ]
  },
  {
   "cell_type": "code",
   "execution_count": 23,
   "metadata": {},
   "outputs": [
    {
     "data": {
      "image/png": "[encoded data removed]",
      "text/plain": [
       "<Figure size 1080x504 with 1 Axes>"
      ]
     },
     "metadata": {
      "needs_background": "light"
     },
     "output_type": "display_data"
    }
   ],
   "source": [
    "\n",
    "st1=df['Age'].value_counts().plot.bar(width=0.8,figsize=(15,7))\n"
   ]
  },
  {
   "cell_type": "markdown",
   "metadata": {},
   "source": [
    "#### Observation\n",
    "1. More number of women are prone to breast cancer at the age of 50,52 and 54 that is as soon as they attain menopause(The average age for menopause onset in the United States is 51 years old, according to the National Institute on Aging).\n",
    "2. Women in the age group of 34 to 70 are susceptible for breast cancer.\n"
   ]
  },
  {
   "cell_type": "code",
   "execution_count": 29,
   "metadata": {},
   "outputs": [
    {
     "data": {
      "image/png": "[encoded data removed]",
      "text/plain": [
       "<Figure size 1080x504 with 1 Axes>"
      ]
     },
     "metadata": {
      "needs_background": "light"
     },
     "output_type": "display_data"
    }
   ],
   "source": [
    "st2=df['Years_of_operation'].value_counts()\n",
    "ax=st2.plot.bar(width=0.8,figsize=(15,7))"
   ]
  },
  {
   "cell_type": "code",
   "execution_count": 31,
   "metadata": {},
   "outputs": [
    {
     "data": {
      "text/html": [
       "<div>\n",
       "<style scoped>\n",
       "    .dataframe tbody tr th:only-of-type {\n",
       "        vertical-align: middle;\n",
       "    }\n",
       "\n",
       "    .dataframe tbody tr th {\n",
       "        vertical-align: top;\n",
       "    }\n",
       "\n",
       "    .dataframe thead th {\n",
       "        text-align: right;\n",
       "    }\n",
       "</style>\n",
       "<table border=\"1\" class=\"dataframe\">\n",
       "  <thead>\n",
       "    <tr style=\"text-align: right;\">\n",
       "      <th></th>\n",
       "      <th>Status</th>\n",
       "    </tr>\n",
       "    <tr>\n",
       "      <th>Pos_axillary_nodes</th>\n",
       "      <th></th>\n",
       "    </tr>\n",
       "  </thead>\n",
       "  <tbody>\n",
       "    <tr>\n",
       "      <th>0</th>\n",
       "      <td>136</td>\n",
       "    </tr>\n",
       "    <tr>\n",
       "      <th>1</th>\n",
       "      <td>41</td>\n",
       "    </tr>\n",
       "    <tr>\n",
       "      <th>2</th>\n",
       "      <td>20</td>\n",
       "    </tr>\n",
       "    <tr>\n",
       "      <th>3</th>\n",
       "      <td>20</td>\n",
       "    </tr>\n",
       "    <tr>\n",
       "      <th>4</th>\n",
       "      <td>13</td>\n",
       "    </tr>\n",
       "    <tr>\n",
       "      <th>5</th>\n",
       "      <td>6</td>\n",
       "    </tr>\n",
       "    <tr>\n",
       "      <th>6</th>\n",
       "      <td>7</td>\n",
       "    </tr>\n",
       "    <tr>\n",
       "      <th>7</th>\n",
       "      <td>7</td>\n",
       "    </tr>\n",
       "    <tr>\n",
       "      <th>8</th>\n",
       "      <td>7</td>\n",
       "    </tr>\n",
       "    <tr>\n",
       "      <th>9</th>\n",
       "      <td>6</td>\n",
       "    </tr>\n",
       "    <tr>\n",
       "      <th>10</th>\n",
       "      <td>3</td>\n",
       "    </tr>\n",
       "    <tr>\n",
       "      <th>11</th>\n",
       "      <td>4</td>\n",
       "    </tr>\n",
       "    <tr>\n",
       "      <th>12</th>\n",
       "      <td>2</td>\n",
       "    </tr>\n",
       "    <tr>\n",
       "      <th>13</th>\n",
       "      <td>5</td>\n",
       "    </tr>\n",
       "    <tr>\n",
       "      <th>14</th>\n",
       "      <td>4</td>\n",
       "    </tr>\n",
       "    <tr>\n",
       "      <th>15</th>\n",
       "      <td>3</td>\n",
       "    </tr>\n",
       "    <tr>\n",
       "      <th>16</th>\n",
       "      <td>1</td>\n",
       "    </tr>\n",
       "    <tr>\n",
       "      <th>17</th>\n",
       "      <td>1</td>\n",
       "    </tr>\n",
       "    <tr>\n",
       "      <th>18</th>\n",
       "      <td>1</td>\n",
       "    </tr>\n",
       "    <tr>\n",
       "      <th>19</th>\n",
       "      <td>3</td>\n",
       "    </tr>\n",
       "    <tr>\n",
       "      <th>20</th>\n",
       "      <td>2</td>\n",
       "    </tr>\n",
       "    <tr>\n",
       "      <th>21</th>\n",
       "      <td>1</td>\n",
       "    </tr>\n",
       "    <tr>\n",
       "      <th>22</th>\n",
       "      <td>3</td>\n",
       "    </tr>\n",
       "    <tr>\n",
       "      <th>23</th>\n",
       "      <td>3</td>\n",
       "    </tr>\n",
       "    <tr>\n",
       "      <th>24</th>\n",
       "      <td>1</td>\n",
       "    </tr>\n",
       "    <tr>\n",
       "      <th>25</th>\n",
       "      <td>1</td>\n",
       "    </tr>\n",
       "    <tr>\n",
       "      <th>28</th>\n",
       "      <td>1</td>\n",
       "    </tr>\n",
       "    <tr>\n",
       "      <th>30</th>\n",
       "      <td>1</td>\n",
       "    </tr>\n",
       "    <tr>\n",
       "      <th>35</th>\n",
       "      <td>1</td>\n",
       "    </tr>\n",
       "    <tr>\n",
       "      <th>46</th>\n",
       "      <td>1</td>\n",
       "    </tr>\n",
       "    <tr>\n",
       "      <th>52</th>\n",
       "      <td>1</td>\n",
       "    </tr>\n",
       "  </tbody>\n",
       "</table>\n",
       "</div>"
      ],
      "text/plain": [
       "                    Status\n",
       "Pos_axillary_nodes        \n",
       "0                      136\n",
       "1                       41\n",
       "2                       20\n",
       "3                       20\n",
       "4                       13\n",
       "5                        6\n",
       "6                        7\n",
       "7                        7\n",
       "8                        7\n",
       "9                        6\n",
       "10                       3\n",
       "11                       4\n",
       "12                       2\n",
       "13                       5\n",
       "14                       4\n",
       "15                       3\n",
       "16                       1\n",
       "17                       1\n",
       "18                       1\n",
       "19                       3\n",
       "20                       2\n",
       "21                       1\n",
       "22                       3\n",
       "23                       3\n",
       "24                       1\n",
       "25                       1\n",
       "28                       1\n",
       "30                       1\n",
       "35                       1\n",
       "46                       1\n",
       "52                       1"
      ]
     },
     "execution_count": 31,
     "metadata": {},
     "output_type": "execute_result"
    }
   ],
   "source": [
    "df1=df.groupby([\"Pos_axillary_nodes\"])[['Status']].count()\n",
    "df1"
   ]
  },
  {
   "cell_type": "code",
   "execution_count": 70,
   "metadata": {},
   "outputs": [
    {
     "data": {
      "image/png": "[encoded data removed]",
      "text/plain": [
       "<Figure size 1080x504 with 1 Axes>"
      ]
     },
     "metadata": {
      "needs_background": "light"
     },
     "output_type": "display_data"
    }
   ],
   "source": [
    "st=df['Pos_axillary_nodes'].value_counts()\n",
    "ax=df1.plot.bar(width=0.8,figsize=(15,7))\n",
    "for i, v in st.reset_index().iterrows():\n",
    "    ax.text(i,v.Pos_axillary_nodes+0.2,v.Pos_axillary_nodes,color='red')"
   ]
  },
  {
   "cell_type": "code",
   "execution_count": 111,
   "metadata": {},
   "outputs": [
    {
     "data": {
      "image/png": "[encoded data removed]",
      "text/plain": [
       "<Figure size 432x288 with 1 Axes>"
      ]
     },
     "metadata": {},
     "output_type": "display_data"
    }
   ],
   "source": [
    "\n",
    "b=df[df.Pos_axillary_nodes==0]\n",
    "\n",
    "st=['1','2']\n",
    "colors=('b','m')\n",
    "plt.pie(b['Status'].value_counts(),labels=st,colors=colors,autopct='%.lf%%')\n",
    "plt.show();"
   ]
  },
  {
   "cell_type": "code",
   "execution_count": 112,
   "metadata": {},
   "outputs": [
    {
     "data": {
      "image/png": "[encoded data removed]",
      "text/plain": [
       "<Figure size 432x288 with 1 Axes>"
      ]
     },
     "metadata": {},
     "output_type": "display_data"
    }
   ],
   "source": [
    "c=df[df.Pos_axillary_nodes==1]\n",
    "\n",
    "st=['1','2']\n",
    "colors=('b','m')\n",
    "plt.pie(c['Status'].value_counts(),labels=st,colors=colors,autopct='%.lf%%')\n",
    "plt.show();"
   ]
  },
  {
   "cell_type": "code",
   "execution_count": 114,
   "metadata": {},
   "outputs": [
    {
     "data": {
      "image/png": "[encoded data removed]",
      "text/plain": [
       "<Figure size 432x288 with 1 Axes>"
      ]
     },
     "metadata": {},
     "output_type": "display_data"
    }
   ],
   "source": [
    "d=df[df.Pos_axillary_nodes==2]\n",
    "\n",
    "st=['1','2']\n",
    "colors=('b','m')\n",
    "plt.pie(d['Status'].value_counts(),labels=st,colors=colors,autopct='%.lf%%')\n",
    "plt.show();"
   ]
  },
  {
   "cell_type": "code",
   "execution_count": 115,
   "metadata": {},
   "outputs": [
    {
     "data": {
      "image/png": "[encoded data removed]",
      "text/plain": [
       "<Figure size 432x288 with 1 Axes>"
      ]
     },
     "metadata": {},
     "output_type": "display_data"
    }
   ],
   "source": [
    "d=df[df.Pos_axillary_nodes==3]\n",
    "\n",
    "st=['1','2']\n",
    "colors=('b','m')\n",
    "plt.pie(d['Status'].value_counts(),labels=st,colors=colors,autopct='%.lf%%')\n",
    "plt.show();"
   ]
  },
  {
   "cell_type": "code",
   "execution_count": 121,
   "metadata": {},
   "outputs": [
    {
     "data": {
      "image/png": "[encoded data removed]",
      "text/plain": [
       "<Figure size 432x288 with 1 Axes>"
      ]
     },
     "metadata": {},
     "output_type": "display_data"
    }
   ],
   "source": [
    "p49=df[(df['Pos_axillary_nodes'] >=4) & (df['Pos_axillary_nodes'] <=9)]\n",
    "p49.count()\n",
    "st=['1','2']\n",
    "colors=('b','m')\n",
    "plt.pie(p49['Status'].value_counts(),labels=st,colors=colors,autopct='%.lf%%')\n",
    "plt.show();"
   ]
  },
  {
   "cell_type": "code",
   "execution_count": 124,
   "metadata": {},
   "outputs": [
    {
     "data": {
      "image/png": "[encoded data removed]",
      "text/plain": [
       "<Figure size 432x288 with 1 Axes>"
      ]
     },
     "metadata": {},
     "output_type": "display_data"
    }
   ],
   "source": [
    "pg10=df[(df['Pos_axillary_nodes'] >=10)]\n",
    "p49.count()\n",
    "st=['1','2']\n",
    "colors=('b','m')\n",
    "plt.pie(pg10['Status'].value_counts(),labels=st,colors=colors,autopct='%.lf%%')\n",
    "plt.show();"
   ]
  },
  {
   "cell_type": "markdown",
   "metadata": {},
   "source": [
    "#### Observation\n",
    "1. Most of the records show positive lymph node between 0 to 9.The frequency count reduces drastically beyond positive lymph node with value 9.\n",
    "2. Frequency count for positive lymph node values between  0 to 4 are observed to be comparitively more.\n",
    "3. 86% five year survival rate is observed with patients with positive lymph node 0\n",
    "4. 80% five year survival rate is observed with patients with positive lymph node 1\n",
    "5. 75% five year survival rate is observed with patients with positive lymph node 2\n",
    "6. 65% five year survival rate is observed with patients with positive lymph node 3\n",
    "7. 61% five year survival rate is observed with patients with positive lymph node between 4 to 9\n",
    "8. 56% five year survival rate is observed with patients with positive lymph node above 10\n",
    "\n"
   ]
  },
  {
   "cell_type": "markdown",
   "metadata": {},
   "source": [
    "### 7.  Hypothesis\n",
    "\n",
    "If the number of positive lymph node is high the five year survival rate is low."
   ]
  },
  {
   "cell_type": "markdown",
   "metadata": {},
   "source": [
    "<a id=section8></a>\n",
    "### 8.  Conclusion\n",
    "1. 5 year suvival rate is high with less number of positive lymph nodes and therefore the null hypothesis is proved.\n",
    "2. Women in the age group of 34 to 70 are susceptible for breast cancer.\n",
    "3. More number of Women are identified with Breast Cancer after menopause.\n",
    "4. The data is for the period from 1958 to 1969 and it is observed that more operations were performed in 1958.\n",
    "5. The above observations are based on only Node status of Positive lymph node and that is the limitation as for Cancer patients tumor size and metasis also needs to be taken into account.\n"
   ]
  },
  {
   "cell_type": "code",
   "execution_count": null,
   "metadata": {},
   "outputs": [],
   "source": []
  }
 ],
 "metadata": {
  "kernelspec": {
   "display_name": "Python 3",
   "language": "python",
   "name": "python3"
  },
  "language_info": {
   "codemirror_mode": {
    "name": "ipython",
    "version": 3
   },
   "file_extension": ".py",
   "mimetype": "text/x-python",
   "name": "python",
   "nbconvert_exporter": "python",
   "pygments_lexer": "ipython3",
   "version": "3.7.1"
  }
 },
 "nbformat": 4,
 "nbformat_minor": 2
}
