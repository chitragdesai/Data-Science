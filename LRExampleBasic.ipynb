{
 "cells": [
  {
   "cell_type": "markdown",
   "metadata": {},
   "source": [
    "# Linear Regression\n",
    "- Linear Regression is a statistical approach for modelling relationship between a dependent variable with a given set of independent variables.\n",
    "- Dependent variables are referred as response\n",
    "- Independent variables are referred as features\n",
    "\n",
    "## Simple Regression\n",
    "- An approach for predicting a response using single feature"
   ]
  },
  {
   "cell_type": "code",
   "execution_count": 1,
   "metadata": {},
   "outputs": [],
   "source": [
    "import matplotlib.pyplot as pt"
   ]
  },
  {
   "cell_type": "code",
   "execution_count": 4,
   "metadata": {
    "scrolled": true
   },
   "outputs": [],
   "source": [
    "# Step 1 : Import packages and classes\n",
    "import numpy as np # Fundamental Datatype with NumPy is numpy.ndarray\n",
    "from sklearn.linear_model import LinearRegression # LinearRegression is class from sklearn.linear_model. \n",
    "                                                  # It is used to perform linear and polynomial regression\n",
    "from sklearn import metrics"
   ]
  },
  {
   "cell_type": "code",
   "execution_count": 6,
   "metadata": {},
   "outputs": [],
   "source": [
    "# Step 2 : Provide Data\n",
    "x=np.array([2,4,6,8,10,12,14]) #Year of experience\n",
    "y=np.array([4,9,11,17,25,34,40]) # Salary Package in lacs per annumn"
   ]
  },
  {
   "cell_type": "code",
   "execution_count": 7,
   "metadata": {},
   "outputs": [
    {
     "name": "stdout",
     "output_type": "stream",
     "text": [
      "1\n",
      "1\n"
     ]
    }
   ],
   "source": [
    "print(x.ndim)\n",
    "print(y.ndim)"
   ]
  },
  {
   "cell_type": "code",
   "execution_count": 8,
   "metadata": {},
   "outputs": [
    {
     "data": {
      "text/plain": [
       "(7,)"
      ]
     },
     "execution_count": 8,
     "metadata": {},
     "output_type": "execute_result"
    }
   ],
   "source": [
    "x.shape"
   ]
  },
  {
   "cell_type": "code",
   "execution_count": 9,
   "metadata": {},
   "outputs": [
    {
     "data": {
      "text/plain": [
       "array([[1.        , 0.98545088],\n",
       "       [0.98545088, 1.        ]])"
      ]
     },
     "execution_count": 9,
     "metadata": {},
     "output_type": "execute_result"
    }
   ],
   "source": [
    "np.corrcoef([2,4,6,8,10,12,14],[4,9,11,17,25,34,40],\"full\")"
   ]
  },
  {
   "cell_type": "code",
   "execution_count": 10,
   "metadata": {},
   "outputs": [
    {
     "data": {
      "text/plain": [
       "array([ 2,  4,  6,  8, 10, 12, 14])"
      ]
     },
     "execution_count": 10,
     "metadata": {},
     "output_type": "execute_result"
    }
   ],
   "source": [
    "x"
   ]
  },
  {
   "cell_type": "code",
   "execution_count": 11,
   "metadata": {},
   "outputs": [
    {
     "data": {
      "text/plain": [
       "(7, 1)"
      ]
     },
     "execution_count": 11,
     "metadata": {},
     "output_type": "execute_result"
    }
   ],
   "source": [
    "x=np.array([2,4,6,8,10,12,14]).reshape((-1,1)) # x has to be two dimensional i.e, one column and as many rows as necessary\n",
    "x.shape"
   ]
  },
  {
   "cell_type": "code",
   "execution_count": 12,
   "metadata": {},
   "outputs": [
    {
     "name": "stdout",
     "output_type": "stream",
     "text": [
      "[[ 2]\n",
      " [ 4]\n",
      " [ 6]\n",
      " [ 8]\n",
      " [10]\n",
      " [12]\n",
      " [14]]\n"
     ]
    }
   ],
   "source": [
    "print(x)"
   ]
  },
  {
   "cell_type": "code",
   "execution_count": 13,
   "metadata": {},
   "outputs": [
    {
     "name": "stdout",
     "output_type": "stream",
     "text": [
      "[ 4  9 11 17 25 34 40]\n"
     ]
    }
   ],
   "source": [
    "print(y)"
   ]
  },
  {
   "cell_type": "code",
   "execution_count": 14,
   "metadata": {},
   "outputs": [
    {
     "data": {
      "text/plain": [
       "<matplotlib.collections.PathCollection at 0x2a72df2d978>"
      ]
     },
     "execution_count": 14,
     "metadata": {},
     "output_type": "execute_result"
    },
    {
     "data": {
      "image/png": "[encoded data removed]",
      "text/plain": [
       "<Figure size 432x288 with 1 Axes>"
      ]
     },
     "metadata": {
      "needs_background": "light"
     },
     "output_type": "display_data"
    }
   ],
   "source": [
    "pt.scatter(x,y,color=\"m\",marker=\"o\",s=30)"
   ]
  },
  {
   "cell_type": "code",
   "execution_count": 15,
   "metadata": {},
   "outputs": [],
   "source": [
    "#Step 3: Create a model and fit it\n",
    "model=LinearRegression() # Creates a variable model as the instance of LinearRegression"
   ]
  },
  {
   "cell_type": "markdown",
   "metadata": {},
   "source": [
    "### Parameters with LinearRegression\n",
    "fit_intercept is a Boolean (True by default) that decides whether to calculate the intercept b0(True) or consider it equal to Zero (False)"
   ]
  },
  {
   "cell_type": "code",
   "execution_count": 16,
   "metadata": {},
   "outputs": [
    {
     "name": "stdout",
     "output_type": "stream",
     "text": [
      "Intercept: -4.571428571428566\n",
      "Slope: [3.07142857]\n"
     ]
    }
   ],
   "source": [
    "result=model.fit(x,y) # Example that uses default values to all parameters\n",
    "print('Intercept:',model.intercept_)  # f(x)=b0+b1x intercept is b0\n",
    "print('Slope:', model.coef_)  # coefficient is b1"
   ]
  },
  {
   "cell_type": "markdown",
   "metadata": {},
   "source": [
    "### .fit()\n",
    "- With .fit() you calculate the optimal values of the weights b0 and b1 using exisitng input x and output y\n",
    "- .fit() fits the model\n",
    "#### Intercept \n",
    "It is a scalar value\n",
    "#### Slope \n",
    "It is an array\n",
    "\n",
    "- b0=b0 illustrates that your model predicts the response b0 when x is zero\n",
    "- b1=b1 means the predicted response rises by b1 when x is increased by one,\n",
    "\n"
   ]
  },
  {
   "cell_type": "code",
   "execution_count": 17,
   "metadata": {
    "scrolled": true
   },
   "outputs": [
    {
     "name": "stdout",
     "output_type": "stream",
     "text": [
      "coefficient of determination: 0.9711134453781514\n"
     ]
    }
   ],
   "source": [
    "# Get Result \n",
    "rsq=model.score(x,y)\n",
    "print('coefficient of determination:',rsq)"
   ]
  },
  {
   "cell_type": "code",
   "execution_count": 18,
   "metadata": {
    "scrolled": true
   },
   "outputs": [
    {
     "name": "stdout",
     "output_type": "stream",
     "text": [
      "[[ 2]\n",
      " [ 4]\n",
      " [ 6]\n",
      " [ 8]\n",
      " [10]\n",
      " [12]\n",
      " [14]]\n",
      "Predicted Response: [ 1.57142857  7.71428571 13.85714286 20.         26.14285714 32.28571429\n",
      " 38.42857143]\n"
     ]
    }
   ],
   "source": [
    "# Predict Response\n",
    "print(x)\n",
    "ypredict=model.predict(x) # you pass the regressor as argument and get corresponding predicted response\n",
    "print('Predicted Response:',ypredict)"
   ]
  },
  {
   "cell_type": "code",
   "execution_count": 19,
   "metadata": {
    "scrolled": true
   },
   "outputs": [
    {
     "name": "stdout",
     "output_type": "stream",
     "text": [
      "[[ 1.57142857]\n",
      " [ 7.71428571]\n",
      " [13.85714286]\n",
      " [20.        ]\n",
      " [26.14285714]\n",
      " [32.28571429]\n",
      " [38.42857143]]\n"
     ]
    }
   ],
   "source": [
    "yp=model.intercept_+model.coef_*x # Identical way to predict the reponse\n",
    "print(yp)"
   ]
  },
  {
   "cell_type": "code",
   "execution_count": 20,
   "metadata": {},
   "outputs": [
    {
     "data": {
      "text/plain": [
       "[<matplotlib.lines.Line2D at 0x2a72df8a198>]"
      ]
     },
     "execution_count": 20,
     "metadata": {},
     "output_type": "execute_result"
    },
    {
     "data": {
      "image/png": "[encoded data removed]",
      "text/plain": [
       "<Figure size 432x288 with 1 Axes>"
      ]
     },
     "metadata": {
      "needs_background": "light"
     },
     "output_type": "display_data"
    }
   ],
   "source": [
    "pt.scatter(x,y,color=\"m\",marker=\"o\",s=30)\n",
    "pt.xlabel('x')\n",
    "pt.ylabel('y')\n",
    "pt.plot(x,ypredict,color=\"g\")"
   ]
  },
  {
   "cell_type": "code",
   "execution_count": 25,
   "metadata": {},
   "outputs": [
    {
     "name": "stdout",
     "output_type": "stream",
     "text": [
      "4.489795918367347\n"
     ]
    }
   ],
   "source": [
    "MSE1 = metrics.mean_squared_error(y, yp)\n",
    "print(MSE1)"
   ]
  },
  {
   "cell_type": "code",
   "execution_count": 26,
   "metadata": {},
   "outputs": [
    {
     "name": "stdout",
     "output_type": "stream",
     "text": [
      "2.1189138534559038\n"
     ]
    }
   ],
   "source": [
    "RMSE1 = np.sqrt( MSE1) # Root Mean Squared Error\n",
    "print(RMSE1)"
   ]
  },
  {
   "cell_type": "code",
   "execution_count": 22,
   "metadata": {},
   "outputs": [
    {
     "name": "stdout",
     "output_type": "stream",
     "text": [
      "2.0\n"
     ]
    }
   ],
   "source": [
    "MAE1 = metrics.mean_absolute_error(y, yp) # Mean Absolute Error\n",
    "print(MAE1)"
   ]
  },
  {
   "cell_type": "markdown",
   "metadata": {},
   "source": [
    "Comparing these metrics:\n",
    "\n",
    "- __MAE__ is the easiest to understand, because it's the __average error.__ \n",
    "- __MSE__ is more popular than MAE, because MSE \"punishes\" larger errors.\n",
    "- __RMSE__ is even more popular than MSE, because RMSE is _interpretable_ in the \"y\" units.\n",
    "    - Easier to put in context as it's the same units as our response variable."
   ]
  },
  {
   "cell_type": "code",
   "execution_count": 60,
   "metadata": {},
   "outputs": [],
   "source": [
    "yhat = model.predict(x)\n",
    "SS_Residual = sum((y-yhat)**2)\n",
    "SS_Total = sum((y-np.mean(y))**2)\n",
    "SS_Regress=sum((yp-np.mean(y))**2)                        #Sum of squares due to regression"
   ]
  },
  {
   "cell_type": "code",
   "execution_count": 61,
   "metadata": {},
   "outputs": [
    {
     "name": "stdout",
     "output_type": "stream",
     "text": [
      "[ 1.57142857  7.71428571 13.85714286 20.         26.14285714 32.28571429\n",
      " 38.42857143]\n"
     ]
    }
   ],
   "source": [
    "print(yhat)"
   ]
  },
  {
   "cell_type": "code",
   "execution_count": 62,
   "metadata": {
    "scrolled": true
   },
   "outputs": [
    {
     "name": "stdout",
     "output_type": "stream",
     "text": [
      "31.428571428571416\n"
     ]
    }
   ],
   "source": [
    "print(SS_Residual)"
   ]
  },
  {
   "cell_type": "code",
   "execution_count": 63,
   "metadata": {},
   "outputs": [
    {
     "name": "stdout",
     "output_type": "stream",
     "text": [
      "1088.0\n"
     ]
    }
   ],
   "source": [
    "print(SS_Total)"
   ]
  },
  {
   "cell_type": "code",
   "execution_count": 64,
   "metadata": {},
   "outputs": [
    {
     "name": "stdout",
     "output_type": "stream",
     "text": [
      "[1056.57142857]\n"
     ]
    }
   ],
   "source": [
    "print(SS_Regress)"
   ]
  },
  {
   "cell_type": "code",
   "execution_count": 66,
   "metadata": {},
   "outputs": [
    {
     "data": {
      "text/plain": [
       "32.984845004941285"
      ]
     },
     "execution_count": 66,
     "metadata": {},
     "output_type": "execute_result"
    }
   ],
   "source": [
    "np.sqrt(SS_Total)"
   ]
  },
  {
   "cell_type": "code",
   "execution_count": 68,
   "metadata": {},
   "outputs": [
    {
     "data": {
      "text/plain": [
       "array([1088.])"
      ]
     },
     "execution_count": 68,
     "metadata": {},
     "output_type": "execute_result"
    }
   ],
   "source": [
    "SS_Residual+SS_Regress # SS_Totlal=SS_Residual+SS_Regress"
   ]
  },
  {
   "cell_type": "code",
   "execution_count": null,
   "metadata": {},
   "outputs": [],
   "source": []
  }
 ],
 "metadata": {
  "kernelspec": {
   "display_name": "Python 3",
   "language": "python",
   "name": "python3"
  },
  "language_info": {
   "codemirror_mode": {
    "name": "ipython",
    "version": 3
   },
   "file_extension": ".py",
   "mimetype": "text/x-python",
   "name": "python",
   "nbconvert_exporter": "python",
   "pygments_lexer": "ipython3",
   "version": "3.7.1"
  }
 },
 "nbformat": 4,
 "nbformat_minor": 2
}
